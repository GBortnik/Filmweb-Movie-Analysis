{
 "cells": [
  {
   "cell_type": "code",
   "execution_count": 1,
   "id": "440627f9",
   "metadata": {},
   "outputs": [
    {
     "name": "stdout",
     "output_type": "stream",
     "text": [
      "Requirement already satisfied: pip in c:\\users\\gbort\\appdata\\local\\packages\\pythonsoftwarefoundation.python.3.11_qbz5n2kfra8p0\\localcache\\local-packages\\python311\\site-packages (25.1.1)\n",
      "Requirement already satisfied: nbformat in c:\\users\\gbort\\appdata\\local\\packages\\pythonsoftwarefoundation.python.3.11_qbz5n2kfra8p0\\localcache\\local-packages\\python311\\site-packages (5.10.4)\n",
      "Requirement already satisfied: matplotlib==3.10.3 in c:\\users\\gbort\\appdata\\local\\packages\\pythonsoftwarefoundation.python.3.11_qbz5n2kfra8p0\\localcache\\local-packages\\python311\\site-packages (3.10.3)\n",
      "Requirement already satisfied: seaborn==0.13.2 in c:\\users\\gbort\\appdata\\local\\packages\\pythonsoftwarefoundation.python.3.11_qbz5n2kfra8p0\\localcache\\local-packages\\python311\\site-packages (0.13.2)\n",
      "Requirement already satisfied: plotly==6.1.2 in c:\\users\\gbort\\appdata\\local\\packages\\pythonsoftwarefoundation.python.3.11_qbz5n2kfra8p0\\localcache\\local-packages\\python311\\site-packages (6.1.2)\n",
      "Requirement already satisfied: pycountry==24.6.1 in c:\\users\\gbort\\appdata\\local\\packages\\pythonsoftwarefoundation.python.3.11_qbz5n2kfra8p0\\localcache\\local-packages\\python311\\site-packages (24.6.1)\n",
      "Requirement already satisfied: networkx==3.5 in c:\\users\\gbort\\appdata\\local\\packages\\pythonsoftwarefoundation.python.3.11_qbz5n2kfra8p0\\localcache\\local-packages\\python311\\site-packages (3.5)\n",
      "Requirement already satisfied: scipy==1.15.3 in c:\\users\\gbort\\appdata\\local\\packages\\pythonsoftwarefoundation.python.3.11_qbz5n2kfra8p0\\localcache\\local-packages\\python311\\site-packages (1.15.3)\n",
      "Requirement already satisfied: contourpy>=1.0.1 in c:\\users\\gbort\\appdata\\local\\packages\\pythonsoftwarefoundation.python.3.11_qbz5n2kfra8p0\\localcache\\local-packages\\python311\\site-packages (from matplotlib==3.10.3) (1.3.2)\n",
      "Requirement already satisfied: cycler>=0.10 in c:\\users\\gbort\\appdata\\local\\packages\\pythonsoftwarefoundation.python.3.11_qbz5n2kfra8p0\\localcache\\local-packages\\python311\\site-packages (from matplotlib==3.10.3) (0.12.1)\n",
      "Requirement already satisfied: fonttools>=4.22.0 in c:\\users\\gbort\\appdata\\local\\packages\\pythonsoftwarefoundation.python.3.11_qbz5n2kfra8p0\\localcache\\local-packages\\python311\\site-packages (from matplotlib==3.10.3) (4.58.2)\n",
      "Requirement already satisfied: kiwisolver>=1.3.1 in c:\\users\\gbort\\appdata\\local\\packages\\pythonsoftwarefoundation.python.3.11_qbz5n2kfra8p0\\localcache\\local-packages\\python311\\site-packages (from matplotlib==3.10.3) (1.4.8)\n",
      "Requirement already satisfied: numpy>=1.23 in c:\\users\\gbort\\appdata\\local\\packages\\pythonsoftwarefoundation.python.3.11_qbz5n2kfra8p0\\localcache\\local-packages\\python311\\site-packages (from matplotlib==3.10.3) (2.2.6)\n",
      "Requirement already satisfied: packaging>=20.0 in c:\\users\\gbort\\appdata\\local\\packages\\pythonsoftwarefoundation.python.3.11_qbz5n2kfra8p0\\localcache\\local-packages\\python311\\site-packages (from matplotlib==3.10.3) (25.0)\n",
      "Requirement already satisfied: pillow>=8 in c:\\users\\gbort\\appdata\\local\\packages\\pythonsoftwarefoundation.python.3.11_qbz5n2kfra8p0\\localcache\\local-packages\\python311\\site-packages (from matplotlib==3.10.3) (11.2.1)\n",
      "Requirement already satisfied: pyparsing>=2.3.1 in c:\\users\\gbort\\appdata\\local\\packages\\pythonsoftwarefoundation.python.3.11_qbz5n2kfra8p0\\localcache\\local-packages\\python311\\site-packages (from matplotlib==3.10.3) (3.2.3)\n",
      "Requirement already satisfied: python-dateutil>=2.7 in c:\\users\\gbort\\appdata\\local\\packages\\pythonsoftwarefoundation.python.3.11_qbz5n2kfra8p0\\localcache\\local-packages\\python311\\site-packages (from matplotlib==3.10.3) (2.9.0.post0)\n",
      "Requirement already satisfied: pandas>=1.2 in c:\\users\\gbort\\appdata\\local\\packages\\pythonsoftwarefoundation.python.3.11_qbz5n2kfra8p0\\localcache\\local-packages\\python311\\site-packages (from seaborn==0.13.2) (2.2.3)\n",
      "Requirement already satisfied: narwhals>=1.15.1 in c:\\users\\gbort\\appdata\\local\\packages\\pythonsoftwarefoundation.python.3.11_qbz5n2kfra8p0\\localcache\\local-packages\\python311\\site-packages (from plotly==6.1.2) (1.42.1)\n",
      "Requirement already satisfied: fastjsonschema>=2.15 in c:\\users\\gbort\\appdata\\local\\packages\\pythonsoftwarefoundation.python.3.11_qbz5n2kfra8p0\\localcache\\local-packages\\python311\\site-packages (from nbformat) (2.21.1)\n",
      "Requirement already satisfied: jsonschema>=2.6 in c:\\users\\gbort\\appdata\\local\\packages\\pythonsoftwarefoundation.python.3.11_qbz5n2kfra8p0\\localcache\\local-packages\\python311\\site-packages (from nbformat) (4.24.0)\n",
      "Requirement already satisfied: jupyter-core!=5.0.*,>=4.12 in c:\\users\\gbort\\appdata\\local\\packages\\pythonsoftwarefoundation.python.3.11_qbz5n2kfra8p0\\localcache\\local-packages\\python311\\site-packages (from nbformat) (5.8.1)\n",
      "Requirement already satisfied: traitlets>=5.1 in c:\\users\\gbort\\appdata\\local\\packages\\pythonsoftwarefoundation.python.3.11_qbz5n2kfra8p0\\localcache\\local-packages\\python311\\site-packages (from nbformat) (5.14.3)\n",
      "Requirement already satisfied: attrs>=22.2.0 in c:\\users\\gbort\\appdata\\local\\packages\\pythonsoftwarefoundation.python.3.11_qbz5n2kfra8p0\\localcache\\local-packages\\python311\\site-packages (from jsonschema>=2.6->nbformat) (25.3.0)\n",
      "Requirement already satisfied: jsonschema-specifications>=2023.03.6 in c:\\users\\gbort\\appdata\\local\\packages\\pythonsoftwarefoundation.python.3.11_qbz5n2kfra8p0\\localcache\\local-packages\\python311\\site-packages (from jsonschema>=2.6->nbformat) (2025.4.1)\n",
      "Requirement already satisfied: referencing>=0.28.4 in c:\\users\\gbort\\appdata\\local\\packages\\pythonsoftwarefoundation.python.3.11_qbz5n2kfra8p0\\localcache\\local-packages\\python311\\site-packages (from jsonschema>=2.6->nbformat) (0.36.2)\n",
      "Requirement already satisfied: rpds-py>=0.7.1 in c:\\users\\gbort\\appdata\\local\\packages\\pythonsoftwarefoundation.python.3.11_qbz5n2kfra8p0\\localcache\\local-packages\\python311\\site-packages (from jsonschema>=2.6->nbformat) (0.25.1)\n",
      "Requirement already satisfied: platformdirs>=2.5 in c:\\users\\gbort\\appdata\\local\\packages\\pythonsoftwarefoundation.python.3.11_qbz5n2kfra8p0\\localcache\\local-packages\\python311\\site-packages (from jupyter-core!=5.0.*,>=4.12->nbformat) (4.3.8)\n",
      "Requirement already satisfied: pywin32>=300 in c:\\users\\gbort\\appdata\\local\\packages\\pythonsoftwarefoundation.python.3.11_qbz5n2kfra8p0\\localcache\\local-packages\\python311\\site-packages (from jupyter-core!=5.0.*,>=4.12->nbformat) (310)\n",
      "Requirement already satisfied: pytz>=2020.1 in c:\\users\\gbort\\appdata\\local\\packages\\pythonsoftwarefoundation.python.3.11_qbz5n2kfra8p0\\localcache\\local-packages\\python311\\site-packages (from pandas>=1.2->seaborn==0.13.2) (2025.2)\n",
      "Requirement already satisfied: tzdata>=2022.7 in c:\\users\\gbort\\appdata\\local\\packages\\pythonsoftwarefoundation.python.3.11_qbz5n2kfra8p0\\localcache\\local-packages\\python311\\site-packages (from pandas>=1.2->seaborn==0.13.2) (2025.2)\n",
      "Requirement already satisfied: six>=1.5 in c:\\users\\gbort\\appdata\\local\\packages\\pythonsoftwarefoundation.python.3.11_qbz5n2kfra8p0\\localcache\\local-packages\\python311\\site-packages (from python-dateutil>=2.7->matplotlib==3.10.3) (1.17.0)\n",
      "Requirement already satisfied: typing-extensions>=4.4.0 in c:\\users\\gbort\\appdata\\local\\packages\\pythonsoftwarefoundation.python.3.11_qbz5n2kfra8p0\\localcache\\local-packages\\python311\\site-packages (from referencing>=0.28.4->jsonschema>=2.6->nbformat) (4.13.2)\n"
     ]
    }
   ],
   "source": [
    "!pip install --upgrade pip\n",
    "\n",
    "!pip install --upgrade nbformat matplotlib==3.10.3 seaborn==0.13.2 plotly==6.1.2 pycountry==24.6.1 networkx==3.5 scipy==1.15.3"
   ]
  },
  {
   "cell_type": "code",
   "execution_count": 53,
   "id": "5d421377",
   "metadata": {},
   "outputs": [],
   "source": [
    "import pandas as pd\n",
    "import numpy as np\n",
    "import matplotlib.pyplot as plt\n",
    "import seaborn as sns\n",
    "import plotly.express as px\n",
    "import ast\n",
    "import matplotlib.ticker as mtick\n",
    "from collections import Counter"
   ]
  },
  {
   "cell_type": "code",
   "execution_count": 3,
   "id": "dfafc664",
   "metadata": {},
   "outputs": [],
   "source": [
    "df = pd.read_csv('top500_transformed.csv', index_col=0)"
   ]
  },
  {
   "cell_type": "code",
   "execution_count": 4,
   "id": "20f56dd0",
   "metadata": {},
   "outputs": [
    {
     "data": {
      "text/html": [
       "<div>\n",
       "<style scoped>\n",
       "    .dataframe tbody tr th:only-of-type {\n",
       "        vertical-align: middle;\n",
       "    }\n",
       "\n",
       "    .dataframe tbody tr th {\n",
       "        vertical-align: top;\n",
       "    }\n",
       "\n",
       "    .dataframe thead th {\n",
       "        text-align: right;\n",
       "    }\n",
       "</style>\n",
       "<table border=\"1\" class=\"dataframe\">\n",
       "  <thead>\n",
       "    <tr style=\"text-align: right;\">\n",
       "      <th></th>\n",
       "      <th>title</th>\n",
       "      <th>year</th>\n",
       "      <th>duration</th>\n",
       "      <th>rating_value</th>\n",
       "      <th>rating_count</th>\n",
       "      <th>critic_rating_value</th>\n",
       "      <th>critic_count</th>\n",
       "      <th>directors</th>\n",
       "      <th>screenwriters</th>\n",
       "      <th>production_countries</th>\n",
       "      <th>...</th>\n",
       "      <th>boxoffice_outside_usa</th>\n",
       "      <th>budget</th>\n",
       "      <th>genres</th>\n",
       "      <th>duration_minutes</th>\n",
       "      <th>world_premiere_parsed</th>\n",
       "      <th>polish_premiere_parsed</th>\n",
       "      <th>boxoffice_in$</th>\n",
       "      <th>boxoffice_usa_in$</th>\n",
       "      <th>boxoffice_outside_usa_in$</th>\n",
       "      <th>budget_in$</th>\n",
       "    </tr>\n",
       "    <tr>\n",
       "      <th>position</th>\n",
       "      <th></th>\n",
       "      <th></th>\n",
       "      <th></th>\n",
       "      <th></th>\n",
       "      <th></th>\n",
       "      <th></th>\n",
       "      <th></th>\n",
       "      <th></th>\n",
       "      <th></th>\n",
       "      <th></th>\n",
       "      <th></th>\n",
       "      <th></th>\n",
       "      <th></th>\n",
       "      <th></th>\n",
       "      <th></th>\n",
       "      <th></th>\n",
       "      <th></th>\n",
       "      <th></th>\n",
       "      <th></th>\n",
       "      <th></th>\n",
       "      <th></th>\n",
       "    </tr>\n",
       "  </thead>\n",
       "  <tbody>\n",
       "    <tr>\n",
       "      <th>1</th>\n",
       "      <td>The Shawshank Redemption</td>\n",
       "      <td>1994</td>\n",
       "      <td>2h 22m</td>\n",
       "      <td>8,8</td>\n",
       "      <td>955674</td>\n",
       "      <td>8,2</td>\n",
       "      <td>91</td>\n",
       "      <td>['Frank Darabont']</td>\n",
       "      <td>['Frank Darabont']</td>\n",
       "      <td>['USA']</td>\n",
       "      <td>...</td>\n",
       "      <td>$117 315</td>\n",
       "      <td>$25 000 000</td>\n",
       "      <td>['Dramat']</td>\n",
       "      <td>142</td>\n",
       "      <td>1994-09-10</td>\n",
       "      <td>1995-04-16</td>\n",
       "      <td>28884504.0</td>\n",
       "      <td>28767189.0</td>\n",
       "      <td>117315.0</td>\n",
       "      <td>25000000.0</td>\n",
       "    </tr>\n",
       "    <tr>\n",
       "      <th>2</th>\n",
       "      <td>The Green Mile</td>\n",
       "      <td>1999</td>\n",
       "      <td>3h 8m</td>\n",
       "      <td>8,6</td>\n",
       "      <td>1030633</td>\n",
       "      <td>7,2</td>\n",
       "      <td>73</td>\n",
       "      <td>['Frank Darabont']</td>\n",
       "      <td>['Frank Darabont']</td>\n",
       "      <td>['USA']</td>\n",
       "      <td>...</td>\n",
       "      <td>$150 000 000</td>\n",
       "      <td>$60 000 000</td>\n",
       "      <td>['Dramat']</td>\n",
       "      <td>188</td>\n",
       "      <td>1999-12-06</td>\n",
       "      <td>2000-03-24</td>\n",
       "      <td>286801374.0</td>\n",
       "      <td>136801374.0</td>\n",
       "      <td>150000000.0</td>\n",
       "      <td>60000000.0</td>\n",
       "    </tr>\n",
       "    <tr>\n",
       "      <th>3</th>\n",
       "      <td>Intouchables</td>\n",
       "      <td>2011</td>\n",
       "      <td>1h 52m</td>\n",
       "      <td>8,6</td>\n",
       "      <td>703261</td>\n",
       "      <td>7,1</td>\n",
       "      <td>86</td>\n",
       "      <td>['Olivier Nakache', 'Éric Toledano']</td>\n",
       "      <td>['Olivier Nakache', 'Éric Toledano']</td>\n",
       "      <td>['Francja']</td>\n",
       "      <td>...</td>\n",
       "      <td>$416 389 690</td>\n",
       "      <td>$10 800 000</td>\n",
       "      <td>['Biograficzny', 'Dramat', 'Komedia']</td>\n",
       "      <td>112</td>\n",
       "      <td>2011-09-23</td>\n",
       "      <td>2012-04-13</td>\n",
       "      <td>426588510.0</td>\n",
       "      <td>10198820.0</td>\n",
       "      <td>416389690.0</td>\n",
       "      <td>10800000.0</td>\n",
       "    </tr>\n",
       "    <tr>\n",
       "      <th>4</th>\n",
       "      <td>The Godfather</td>\n",
       "      <td>1972</td>\n",
       "      <td>2h 55m</td>\n",
       "      <td>8,6</td>\n",
       "      <td>566582</td>\n",
       "      <td>9,1</td>\n",
       "      <td>87</td>\n",
       "      <td>['Francis Ford Coppola']</td>\n",
       "      <td>['Mario Puzo', 'Francis Ford Coppola']</td>\n",
       "      <td>['USA']</td>\n",
       "      <td>...</td>\n",
       "      <td>$113 960 743</td>\n",
       "      <td>$6 000 000</td>\n",
       "      <td>['Dramat', 'Gangsterski']</td>\n",
       "      <td>175</td>\n",
       "      <td>1972-03-14</td>\n",
       "      <td>1972-12-31</td>\n",
       "      <td>250341816.0</td>\n",
       "      <td>136381073.0</td>\n",
       "      <td>113960743.0</td>\n",
       "      <td>6000000.0</td>\n",
       "    </tr>\n",
       "    <tr>\n",
       "      <th>5</th>\n",
       "      <td>12 Angry Men</td>\n",
       "      <td>1957</td>\n",
       "      <td>1h 36m</td>\n",
       "      <td>8,7</td>\n",
       "      <td>236509</td>\n",
       "      <td>8,9</td>\n",
       "      <td>86</td>\n",
       "      <td>['Sidney Lumet']</td>\n",
       "      <td>['Reginald Rose']</td>\n",
       "      <td>['USA']</td>\n",
       "      <td>...</td>\n",
       "      <td>NaN</td>\n",
       "      <td>NaN</td>\n",
       "      <td>['Dramat sądowy']</td>\n",
       "      <td>96</td>\n",
       "      <td>1957-04-10</td>\n",
       "      <td>1959-11-01</td>\n",
       "      <td>337000.0</td>\n",
       "      <td>NaN</td>\n",
       "      <td>NaN</td>\n",
       "      <td>NaN</td>\n",
       "    </tr>\n",
       "  </tbody>\n",
       "</table>\n",
       "<p>5 rows × 24 columns</p>\n",
       "</div>"
      ],
      "text/plain": [
       "                             title  year duration rating_value  rating_count  \\\n",
       "position                                                                       \n",
       "1         The Shawshank Redemption  1994   2h 22m          8,8        955674   \n",
       "2                   The Green Mile  1999    3h 8m          8,6       1030633   \n",
       "3                     Intouchables  2011   1h 52m          8,6        703261   \n",
       "4                    The Godfather  1972   2h 55m          8,6        566582   \n",
       "5                     12 Angry Men  1957   1h 36m          8,7        236509   \n",
       "\n",
       "         critic_rating_value  critic_count  \\\n",
       "position                                     \n",
       "1                        8,2            91   \n",
       "2                        7,2            73   \n",
       "3                        7,1            86   \n",
       "4                        9,1            87   \n",
       "5                        8,9            86   \n",
       "\n",
       "                                     directors  \\\n",
       "position                                         \n",
       "1                           ['Frank Darabont']   \n",
       "2                           ['Frank Darabont']   \n",
       "3         ['Olivier Nakache', 'Éric Toledano']   \n",
       "4                     ['Francis Ford Coppola']   \n",
       "5                             ['Sidney Lumet']   \n",
       "\n",
       "                                   screenwriters production_countries  ...  \\\n",
       "position                                                               ...   \n",
       "1                             ['Frank Darabont']              ['USA']  ...   \n",
       "2                             ['Frank Darabont']              ['USA']  ...   \n",
       "3           ['Olivier Nakache', 'Éric Toledano']          ['Francja']  ...   \n",
       "4         ['Mario Puzo', 'Francis Ford Coppola']              ['USA']  ...   \n",
       "5                              ['Reginald Rose']              ['USA']  ...   \n",
       "\n",
       "         boxoffice_outside_usa       budget  \\\n",
       "position                                      \n",
       "1                    $117 315   $25 000 000   \n",
       "2                $150 000 000   $60 000 000   \n",
       "3                $416 389 690   $10 800 000   \n",
       "4                $113 960 743    $6 000 000   \n",
       "5                          NaN          NaN   \n",
       "\n",
       "                                         genres duration_minutes  \\\n",
       "position                                                           \n",
       "1                                    ['Dramat']              142   \n",
       "2                                    ['Dramat']              188   \n",
       "3         ['Biograficzny', 'Dramat', 'Komedia']              112   \n",
       "4                     ['Dramat', 'Gangsterski']              175   \n",
       "5                             ['Dramat sądowy']               96   \n",
       "\n",
       "         world_premiere_parsed polish_premiere_parsed boxoffice_in$  \\\n",
       "position                                                              \n",
       "1                   1994-09-10             1995-04-16    28884504.0   \n",
       "2                   1999-12-06             2000-03-24   286801374.0   \n",
       "3                   2011-09-23             2012-04-13   426588510.0   \n",
       "4                   1972-03-14             1972-12-31   250341816.0   \n",
       "5                   1957-04-10             1959-11-01      337000.0   \n",
       "\n",
       "          boxoffice_usa_in$ boxoffice_outside_usa_in$  budget_in$  \n",
       "position                                                           \n",
       "1                28767189.0                  117315.0  25000000.0  \n",
       "2               136801374.0               150000000.0  60000000.0  \n",
       "3                10198820.0               416389690.0  10800000.0  \n",
       "4               136381073.0               113960743.0   6000000.0  \n",
       "5                       NaN                       NaN         NaN  \n",
       "\n",
       "[5 rows x 24 columns]"
      ]
     },
     "execution_count": 4,
     "metadata": {},
     "output_type": "execute_result"
    }
   ],
   "source": [
    "df.head()"
   ]
  },
  {
   "cell_type": "markdown",
   "id": "3e0ad805",
   "metadata": {},
   "source": [
    "Transforming rating columns to numerical values."
   ]
  },
  {
   "cell_type": "code",
   "execution_count": 5,
   "id": "dbb0b0f7",
   "metadata": {},
   "outputs": [],
   "source": [
    "df['rating_value'] = df['rating_value'].str.replace(',', '.')\n",
    "df['rating_value'] = pd.to_numeric(df['rating_value'], errors='coerce')\n",
    "\n",
    "df['critic_rating_value'] = df['critic_rating_value'].str.replace(',', '.')\n",
    "df['critic_rating_value'] = pd.to_numeric(df['critic_rating_value'], errors='coerce')"
   ]
  },
  {
   "cell_type": "markdown",
   "id": "46c7fa8e",
   "metadata": {},
   "source": [
    "Using explode() function on 'genres' column."
   ]
  },
  {
   "cell_type": "code",
   "execution_count": 6,
   "id": "2d331526",
   "metadata": {},
   "outputs": [],
   "source": [
    "# Changing string to lists\n",
    "df['genres'] = df['genres'].apply(ast.literal_eval)\n",
    "\n",
    "df_genres = df.explode('genres').reset_index(drop=False)"
   ]
  },
  {
   "cell_type": "code",
   "execution_count": 9,
   "id": "ccd64126",
   "metadata": {},
   "outputs": [
    {
     "data": {
      "text/html": [
       "<div>\n",
       "<style scoped>\n",
       "    .dataframe tbody tr th:only-of-type {\n",
       "        vertical-align: middle;\n",
       "    }\n",
       "\n",
       "    .dataframe tbody tr th {\n",
       "        vertical-align: top;\n",
       "    }\n",
       "\n",
       "    .dataframe thead th {\n",
       "        text-align: right;\n",
       "    }\n",
       "</style>\n",
       "<table border=\"1\" class=\"dataframe\">\n",
       "  <thead>\n",
       "    <tr style=\"text-align: right;\">\n",
       "      <th></th>\n",
       "      <th>title</th>\n",
       "      <th>genres</th>\n",
       "    </tr>\n",
       "  </thead>\n",
       "  <tbody>\n",
       "    <tr>\n",
       "      <th>0</th>\n",
       "      <td>The Shawshank Redemption</td>\n",
       "      <td>Dramat</td>\n",
       "    </tr>\n",
       "    <tr>\n",
       "      <th>1</th>\n",
       "      <td>The Green Mile</td>\n",
       "      <td>Dramat</td>\n",
       "    </tr>\n",
       "    <tr>\n",
       "      <th>2</th>\n",
       "      <td>Intouchables</td>\n",
       "      <td>Biograficzny</td>\n",
       "    </tr>\n",
       "    <tr>\n",
       "      <th>3</th>\n",
       "      <td>Intouchables</td>\n",
       "      <td>Dramat</td>\n",
       "    </tr>\n",
       "    <tr>\n",
       "      <th>4</th>\n",
       "      <td>Intouchables</td>\n",
       "      <td>Komedia</td>\n",
       "    </tr>\n",
       "    <tr>\n",
       "      <th>5</th>\n",
       "      <td>The Godfather</td>\n",
       "      <td>Dramat</td>\n",
       "    </tr>\n",
       "    <tr>\n",
       "      <th>6</th>\n",
       "      <td>The Godfather</td>\n",
       "      <td>Gangsterski</td>\n",
       "    </tr>\n",
       "    <tr>\n",
       "      <th>7</th>\n",
       "      <td>12 Angry Men</td>\n",
       "      <td>Dramat sądowy</td>\n",
       "    </tr>\n",
       "    <tr>\n",
       "      <th>8</th>\n",
       "      <td>Forrest Gump</td>\n",
       "      <td>Dramat</td>\n",
       "    </tr>\n",
       "    <tr>\n",
       "      <th>9</th>\n",
       "      <td>Forrest Gump</td>\n",
       "      <td>Komedia</td>\n",
       "    </tr>\n",
       "  </tbody>\n",
       "</table>\n",
       "</div>"
      ],
      "text/plain": [
       "                      title         genres\n",
       "0  The Shawshank Redemption         Dramat\n",
       "1            The Green Mile         Dramat\n",
       "2              Intouchables   Biograficzny\n",
       "3              Intouchables         Dramat\n",
       "4              Intouchables        Komedia\n",
       "5             The Godfather         Dramat\n",
       "6             The Godfather    Gangsterski\n",
       "7              12 Angry Men  Dramat sądowy\n",
       "8              Forrest Gump         Dramat\n",
       "9              Forrest Gump        Komedia"
      ]
     },
     "execution_count": 9,
     "metadata": {},
     "output_type": "execute_result"
    }
   ],
   "source": [
    "df_genres[['title','genres']].head(10)"
   ]
  },
  {
   "cell_type": "code",
   "execution_count": 40,
   "id": "6834d5c2",
   "metadata": {},
   "outputs": [
    {
     "data": {
      "image/png": "[encoded data removed]",
      "text/plain": [
       "<Figure size 1000x600 with 1 Axes>"
      ]
     },
     "metadata": {},
     "output_type": "display_data"
    }
   ],
   "source": [
    "top10_counts = df_genres['genres'].value_counts().head(10)\n",
    "top10_order = top10_counts.index.tolist()\n",
    "\n",
    "plt.figure(figsize=(10,6))\n",
    "\n",
    "ax = sns.countplot(\n",
    "    data=df_genres[df_genres['genres'].isin(top10_order)],\n",
    "    x='genres',\n",
    "    hue='genres',\n",
    "    palette='viridis',\n",
    "    dodge=False,\n",
    "    legend=False,\n",
    "    order=top10_order,\n",
    "    edgecolor='black'\n",
    ")\n",
    "\n",
    "plt.title('Top 10 Movie Genres in Top 500')\n",
    "plt.xlabel('Genre')\n",
    "plt.ylabel('Count')\n",
    "plt.xticks(rotation=45, ha='right')\n",
    "plt.tight_layout()\n",
    "plt.show()"
   ]
  },
  {
   "cell_type": "markdown",
   "id": "c2787d8d",
   "metadata": {},
   "source": [
    "Mapping values in the 'genres' column from Polish to English to create a new column with standardized genre names."
   ]
  },
  {
   "cell_type": "code",
   "execution_count": 22,
   "id": "46050f68",
   "metadata": {},
   "outputs": [
    {
     "data": {
      "text/plain": [
       "array(['Dramat', 'Biograficzny', 'Komedia', 'Gangsterski',\n",
       "       'Dramat sądowy', 'Psychologiczny', 'Fantasy', 'Przygodowy',\n",
       "       'Wojenny', 'Kryminał', 'Thriller', 'Animacja', 'Familijny',\n",
       "       'Western', 'Surrealistyczny', 'Sci-Fi', 'Dramat historyczny',\n",
       "       'Dramat obyczajowy', 'Muzyczny', 'Akcja', 'Sensacyjny', 'Anime',\n",
       "       'Melodramat', 'Komedia kryminalna', 'Kostiumowy', 'Świąteczny',\n",
       "       'Sportowy', 'Obyczajowy', 'Horror', 'Komedia obycz.', 'Musical',\n",
       "       'Animacja dla dorosłych', 'Polityczny', 'Dokumentalny',\n",
       "       'Krótkometrażowy', 'Przyrodniczy', 'Dreszczowiec', 'Film-Noir',\n",
       "       'Sztuki walki', 'Romans', 'Satyra', 'Komedia rom.',\n",
       "       'Czarna komedia', 'Groteska filmowa', 'Poetycki', 'Baśń', 'Niemy',\n",
       "       'Dla młodzieży', 'Biblijny'], dtype=object)"
      ]
     },
     "execution_count": 22,
     "metadata": {},
     "output_type": "execute_result"
    }
   ],
   "source": [
    "df_genres['genres'].unique()"
   ]
  },
  {
   "cell_type": "code",
   "execution_count": 20,
   "id": "5618c040",
   "metadata": {},
   "outputs": [],
   "source": [
    "genre_translation = {\n",
    "    'Dramat': 'Drama',\n",
    "    'Biograficzny': 'Biographical',\n",
    "    'Komedia': 'Comedy',\n",
    "    'Gangsterski': 'Gangster',\n",
    "    'Dramat sądowy': 'Courtroom Drama',\n",
    "    'Psychologiczny': 'Psychological',\n",
    "    'Fantasy': 'Fantasy',\n",
    "    'Przygodowy': 'Adventure',\n",
    "    'Wojenny': 'War',\n",
    "    'Kryminał': 'Crime',\n",
    "    'Thriller': 'Thriller',\n",
    "    'Animacja': 'Animation',\n",
    "    'Familijny': 'Family',\n",
    "    'Western': 'Western',\n",
    "    'Surrealistyczny': 'Surrealist',\n",
    "    'Sci-Fi': 'Science Fiction',\n",
    "    'Dramat historyczny': 'Historical Drama',\n",
    "    'Dramat obyczajowy': 'Social Drama',\n",
    "    'Muzyczny': 'Musical',\n",
    "    'Akcja': 'Action',\n",
    "    'Sensacyjny': 'Action Thriller',\n",
    "    'Anime': 'Anime',\n",
    "    'Melodramat': 'Melodrama',\n",
    "    'Komedia kryminalna': 'Crime Comedy',\n",
    "    'Kostiumowy': 'Costume Drama',\n",
    "    'Świąteczny': 'Christmas',\n",
    "    'Sportowy': 'Sports',\n",
    "    'Obyczajowy': 'Slice of Life',\n",
    "    'Horror': 'Horror',\n",
    "    'Komedia obycz.': 'Comedy Drama',\n",
    "    'Musical': 'Musical',\n",
    "    'Animacja dla dorosłych': 'Adult Animation',\n",
    "    'Polityczny': 'Political',\n",
    "    'Dokumentalny': 'Documentary',\n",
    "    'Krótkometrażowy': 'Short Film',\n",
    "    'Przyrodniczy': 'Nature',\n",
    "    'Dreszczowiec': 'Thriller',\n",
    "    'Film-Noir': 'Film Noir',\n",
    "    'Sztuki walki': 'Martial Arts',\n",
    "    'Romans': 'Romance',\n",
    "    'Satyra': 'Satire',\n",
    "    'Komedia rom.': 'Romantic Comedy',\n",
    "    'Czarna komedia': 'Dark Comedy',\n",
    "    'Groteska filmowa': 'Grotesque',\n",
    "    'Poetycki': 'Poetic',\n",
    "    'Baśń': 'Fairy Tale',\n",
    "    'Niemy': 'Silent',\n",
    "    'Dla młodzieży': 'Teen',\n",
    "    'Biblijny': 'Biblical'\n",
    "}\n",
    "\n",
    "df_genres['genres_en'] = df_genres['genres'].map(genre_translation)"
   ]
  },
  {
   "cell_type": "code",
   "execution_count": 38,
   "id": "63424cad",
   "metadata": {},
   "outputs": [
    {
     "data": {
      "image/png": "[encoded data removed]",
      "text/plain": [
       "<Figure size 1000x600 with 1 Axes>"
      ]
     },
     "metadata": {},
     "output_type": "display_data"
    }
   ],
   "source": [
    "top10_counts = df_genres['genres_en'].value_counts().head(10)\n",
    "top10_order = top10_counts.index.tolist()\n",
    "\n",
    "palette = sns.color_palette(\"viridis\", n_colors=10)\n",
    "\n",
    "color_mapping = dict(zip(top10_order, palette))\n",
    "\n",
    "plt.figure(figsize=(10,6))\n",
    "ax = sns.countplot(\n",
    "    data=df_genres[df_genres['genres_en'].isin(top10_order)],\n",
    "    x='genres_en',\n",
    "    hue='genres_en',\n",
    "    palette=color_mapping,\n",
    "    dodge=False,\n",
    "    legend=False,\n",
    "    order=top10_order,\n",
    "    edgecolor='black'\n",
    ")\n",
    "\n",
    "plt.title('Top 10 Movie Genres in Top 500')\n",
    "plt.xlabel('Genre')\n",
    "plt.ylabel('Count')\n",
    "plt.xticks(rotation=45, ha='right')\n",
    "plt.tight_layout()\n",
    "plt.savefig('genres_count.png', dpi=300, bbox_inches='tight')\n",
    "plt.show()"
   ]
  },
  {
   "cell_type": "code",
   "execution_count": 41,
   "id": "5a75a299",
   "metadata": {},
   "outputs": [
    {
     "data": {
      "image/png": "[encoded data removed]",
      "text/plain": [
       "<Figure size 1000x600 with 1 Axes>"
      ]
     },
     "metadata": {},
     "output_type": "display_data"
    }
   ],
   "source": [
    "genre_rating_sum = df_genres.groupby('genres_en')['rating_count'].sum().sort_values(ascending=False).head(10)\n",
    "\n",
    "top10_genres = genre_rating_sum.index.tolist()\n",
    "top10_values = genre_rating_sum.values\n",
    "\n",
    "plt.figure(figsize=(10,6))\n",
    "\n",
    "ax = sns.barplot(\n",
    "    x=top10_genres,\n",
    "    y=top10_values,\n",
    "    hue=top10_genres,\n",
    "    palette='magma',\n",
    "    dodge=False,\n",
    "    legend=False,\n",
    "    edgecolor='black' \n",
    ")\n",
    "\n",
    "ax.yaxis.set_major_formatter(mtick.FuncFormatter(lambda x, _: f'{int(x/1e6)}M' if x >= 1e6 else (f'{int(x/1e3)}K' if x >= 1e3 else f'{int(x)}')))\n",
    "\n",
    "plt.title('Top 10 Movie Genres by Total Rating Count')\n",
    "plt.xlabel('Genre')\n",
    "plt.ylabel('Total Rating Count')\n",
    "plt.xticks(rotation=45, ha='right')\n",
    "plt.tight_layout()\n",
    "plt.show()"
   ]
  },
  {
   "cell_type": "code",
   "execution_count": 42,
   "id": "265ba0ec",
   "metadata": {},
   "outputs": [
    {
     "data": {
      "text/plain": [
       "Index(['position', 'title', 'year', 'duration', 'rating_value', 'rating_count',\n",
       "       'critic_rating_value', 'critic_count', 'directors', 'screenwriters',\n",
       "       'production_countries', 'world_premiere', 'polish_premiere',\n",
       "       'boxoffice', 'boxoffice_usa', 'boxoffice_outside_usa', 'budget',\n",
       "       'genres', 'duration_minutes', 'world_premiere_parsed',\n",
       "       'polish_premiere_parsed', 'boxoffice_in$', 'boxoffice_usa_in$',\n",
       "       'boxoffice_outside_usa_in$', 'budget_in$', 'genres_en'],\n",
       "      dtype='object')"
      ]
     },
     "execution_count": 42,
     "metadata": {},
     "output_type": "execute_result"
    }
   ],
   "source": [
    "df_genres.columns"
   ]
  },
  {
   "cell_type": "code",
   "execution_count": 45,
   "id": "fe9d8476",
   "metadata": {},
   "outputs": [
    {
     "data": {
      "image/png": "[encoded data removed]",
      "text/plain": [
       "<Figure size 1200x600 with 1 Axes>"
      ]
     },
     "metadata": {},
     "output_type": "display_data"
    }
   ],
   "source": [
    "top_genres = df_genres['genres_en'].value_counts().head(8).index.tolist()\n",
    "df_top = df_genres[df_genres['genres_en'].isin(top_genres)]\n",
    "\n",
    "plt.figure(figsize=(12,6))\n",
    "sns.violinplot(\n",
    "    data=df_top,\n",
    "    x='genres_en',\n",
    "    y='duration_minutes',\n",
    "    hue='genres_en',   \n",
    "    order=top_genres,\n",
    "    palette='Set2',\n",
    "    legend=False, \n",
    "    cut=0\n",
    ")\n",
    "plt.title('Distribution of Movie Durations by Genre (Top 8 Genres)')\n",
    "plt.xlabel('Genre')\n",
    "plt.ylabel('Duration (minutes)')\n",
    "plt.xticks(rotation=30, ha='right')\n",
    "plt.tight_layout()\n",
    "plt.savefig('genres_duration.png', dpi=300, bbox_inches='tight')\n",
    "plt.show()"
   ]
  },
  {
   "cell_type": "code",
   "execution_count": 61,
   "id": "4e1e4970",
   "metadata": {},
   "outputs": [
    {
     "data": {
      "application/vnd.plotly.v1+json": {
       "config": {
        "plotlyServerURL": "https://plot.ly"
       },
       "data": [
        {
         "branchvalues": "total",
         "customdata": [
          [
           "Genres = Dramat, Wojenny<br>Count = 21",
           "Dramat, Wojenny",
           21
          ],
          [
           "Genres = Biograficzny, Dramat<br>Count = 15",
           "Biograficzny, Dramat",
           15
          ],
          [
           "Genres = Akcja, Sci-Fi<br>Count = 13",
           "Akcja, Sci-Fi",
           13
          ],
          [
           "Genres = Dramat, Komedia<br>Count = 12",
           "Dramat, Komedia",
           12
          ],
          [
           "Genres = Dramat, Thriller<br>Count = 12",
           "Dramat, Thriller",
           12
          ],
          [
           "Genres = Dramat, Psychologiczny<br>Count = 10",
           "Dramat, Psychologiczny",
           10
          ],
          [
           "Genres = Fantasy, Przygodowy<br>Count = 9",
           "Fantasy, Przygodowy",
           9
          ],
          [
           "Genres = Kryminał, Thriller<br>Count = 9",
           "Kryminał, Thriller",
           9
          ],
          [
           "Genres = Dramat, Gangsterski<br>Count = 8",
           "Dramat, Gangsterski",
           8
          ],
          [
           "Genres = Familijny, Fantasy, Przygodowy<br>Count = 7",
           "Familijny, Fantasy, Przygodowy",
           7
          ]
         ],
         "domain": {
          "x": [
           0,
           1
          ],
          "y": [
           0,
           1
          ]
         },
         "hovertemplate": "%{customdata[0]}<extra></extra>",
         "ids": [
          "Dramat, Wojenny",
          "Biograficzny, Dramat",
          "Akcja, Sci-Fi",
          "Dramat, Komedia",
          "Dramat, Thriller",
          "Dramat, Psychologiczny",
          "Fantasy, Przygodowy",
          "Kryminał, Thriller",
          "Dramat, Gangsterski",
          "Familijny, Fantasy, Przygodowy"
         ],
         "labels": [
          "Dramat, Wojenny",
          "Biograficzny, Dramat",
          "Akcja, Sci-Fi",
          "Dramat, Komedia",
          "Dramat, Thriller",
          "Dramat, Psychologiczny",
          "Fantasy, Przygodowy",
          "Kryminał, Thriller",
          "Dramat, Gangsterski",
          "Familijny, Fantasy, Przygodowy"
         ],
         "name": "",
         "parents": [
          "",
          "",
          "",
          "",
          "",
          "",
          "",
          "",
          "",
          ""
         ],
         "type": "treemap",
         "values": {
          "bdata": "AAAAAAAANUAAAAAAAAAuQAAAAAAAACpAAAAAAAAAKEAAAAAAAAAoQAAAAAAAACRAAAAAAAAAIkAAAAAAAAAiQAAAAAAAACBAAAAAAAAAHEA=",
          "dtype": "f8"
         }
        }
       ],
       "layout": {
        "height": 600,
        "legend": {
         "tracegroupgap": 0
        },
        "margin": {
         "b": 25,
         "l": 25,
         "r": 25,
         "t": 50
        },
        "template": {
         "data": {
          "bar": [
           {
            "error_x": {
             "color": "#2a3f5f"
            },
            "error_y": {
             "color": "#2a3f5f"
            },
            "marker": {
             "line": {
              "color": "#E5ECF6",
              "width": 0.5
             },
             "pattern": {
              "fillmode": "overlay",
              "size": 10,
              "solidity": 0.2
             }
            },
            "type": "bar"
           }
          ],
          "barpolar": [
           {
            "marker": {
             "line": {
              "color": "#E5ECF6",
              "width": 0.5
             },
             "pattern": {
              "fillmode": "overlay",
              "size": 10,
              "solidity": 0.2
             }
            },
            "type": "barpolar"
           }
          ],
          "carpet": [
           {
            "aaxis": {
             "endlinecolor": "#2a3f5f",
             "gridcolor": "white",
             "linecolor": "white",
             "minorgridcolor": "white",
             "startlinecolor": "#2a3f5f"
            },
            "baxis": {
             "endlinecolor": "#2a3f5f",
             "gridcolor": "white",
             "linecolor": "white",
             "minorgridcolor": "white",
             "startlinecolor": "#2a3f5f"
            },
            "type": "carpet"
           }
          ],
          "choropleth": [
           {
            "colorbar": {
             "outlinewidth": 0,
             "ticks": ""
            },
            "type": "choropleth"
           }
          ],
          "contour": [
           {
            "colorbar": {
             "outlinewidth": 0,
             "ticks": ""
            },
            "colorscale": [
             [
              0,
              "#0d0887"
             ],
             [
              0.1111111111111111,
              "#46039f"
             ],
             [
              0.2222222222222222,
              "#7201a8"
             ],
             [
              0.3333333333333333,
              "#9c179e"
             ],
             [
              0.4444444444444444,
              "#bd3786"
             ],
             [
              0.5555555555555556,
              "#d8576b"
             ],
             [
              0.6666666666666666,
              "#ed7953"
             ],
             [
              0.7777777777777778,
              "#fb9f3a"
             ],
             [
              0.8888888888888888,
              "#fdca26"
             ],
             [
              1,
              "#f0f921"
             ]
            ],
            "type": "contour"
           }
          ],
          "contourcarpet": [
           {
            "colorbar": {
             "outlinewidth": 0,
             "ticks": ""
            },
            "type": "contourcarpet"
           }
          ],
          "heatmap": [
           {
            "colorbar": {
             "outlinewidth": 0,
             "ticks": ""
            },
            "colorscale": [
             [
              0,
              "#0d0887"
             ],
             [
              0.1111111111111111,
              "#46039f"
             ],
             [
              0.2222222222222222,
              "#7201a8"
             ],
             [
              0.3333333333333333,
              "#9c179e"
             ],
             [
              0.4444444444444444,
              "#bd3786"
             ],
             [
              0.5555555555555556,
              "#d8576b"
             ],
             [
              0.6666666666666666,
              "#ed7953"
             ],
             [
              0.7777777777777778,
              "#fb9f3a"
             ],
             [
              0.8888888888888888,
              "#fdca26"
             ],
             [
              1,
              "#f0f921"
             ]
            ],
            "type": "heatmap"
           }
          ],
          "histogram": [
           {
            "marker": {
             "pattern": {
              "fillmode": "overlay",
              "size": 10,
              "solidity": 0.2
             }
            },
            "type": "histogram"
           }
          ],
          "histogram2d": [
           {
            "colorbar": {
             "outlinewidth": 0,
             "ticks": ""
            },
            "colorscale": [
             [
              0,
              "#0d0887"
             ],
             [
              0.1111111111111111,
              "#46039f"
             ],
             [
              0.2222222222222222,
              "#7201a8"
             ],
             [
              0.3333333333333333,
              "#9c179e"
             ],
             [
              0.4444444444444444,
              "#bd3786"
             ],
             [
              0.5555555555555556,
              "#d8576b"
             ],
             [
              0.6666666666666666,
              "#ed7953"
             ],
             [
              0.7777777777777778,
              "#fb9f3a"
             ],
             [
              0.8888888888888888,
              "#fdca26"
             ],
             [
              1,
              "#f0f921"
             ]
            ],
            "type": "histogram2d"
           }
          ],
          "histogram2dcontour": [
           {
            "colorbar": {
             "outlinewidth": 0,
             "ticks": ""
            },
            "colorscale": [
             [
              0,
              "#0d0887"
             ],
             [
              0.1111111111111111,
              "#46039f"
             ],
             [
              0.2222222222222222,
              "#7201a8"
             ],
             [
              0.3333333333333333,
              "#9c179e"
             ],
             [
              0.4444444444444444,
              "#bd3786"
             ],
             [
              0.5555555555555556,
              "#d8576b"
             ],
             [
              0.6666666666666666,
              "#ed7953"
             ],
             [
              0.7777777777777778,
              "#fb9f3a"
             ],
             [
              0.8888888888888888,
              "#fdca26"
             ],
             [
              1,
              "#f0f921"
             ]
            ],
            "type": "histogram2dcontour"
           }
          ],
          "mesh3d": [
           {
            "colorbar": {
             "outlinewidth": 0,
             "ticks": ""
            },
            "type": "mesh3d"
           }
          ],
          "parcoords": [
           {
            "line": {
             "colorbar": {
              "outlinewidth": 0,
              "ticks": ""
             }
            },
            "type": "parcoords"
           }
          ],
          "pie": [
           {
            "automargin": true,
            "type": "pie"
           }
          ],
          "scatter": [
           {
            "fillpattern": {
             "fillmode": "overlay",
             "size": 10,
             "solidity": 0.2
            },
            "type": "scatter"
           }
          ],
          "scatter3d": [
           {
            "line": {
             "colorbar": {
              "outlinewidth": 0,
              "ticks": ""
             }
            },
            "marker": {
             "colorbar": {
              "outlinewidth": 0,
              "ticks": ""
             }
            },
            "type": "scatter3d"
           }
          ],
          "scattercarpet": [
           {
            "marker": {
             "colorbar": {
              "outlinewidth": 0,
              "ticks": ""
             }
            },
            "type": "scattercarpet"
           }
          ],
          "scattergeo": [
           {
            "marker": {
             "colorbar": {
              "outlinewidth": 0,
              "ticks": ""
             }
            },
            "type": "scattergeo"
           }
          ],
          "scattergl": [
           {
            "marker": {
             "colorbar": {
              "outlinewidth": 0,
              "ticks": ""
             }
            },
            "type": "scattergl"
           }
          ],
          "scattermap": [
           {
            "marker": {
             "colorbar": {
              "outlinewidth": 0,
              "ticks": ""
             }
            },
            "type": "scattermap"
           }
          ],
          "scattermapbox": [
           {
            "marker": {
             "colorbar": {
              "outlinewidth": 0,
              "ticks": ""
             }
            },
            "type": "scattermapbox"
           }
          ],
          "scatterpolar": [
           {
            "marker": {
             "colorbar": {
              "outlinewidth": 0,
              "ticks": ""
             }
            },
            "type": "scatterpolar"
           }
          ],
          "scatterpolargl": [
           {
            "marker": {
             "colorbar": {
              "outlinewidth": 0,
              "ticks": ""
             }
            },
            "type": "scatterpolargl"
           }
          ],
          "scatterternary": [
           {
            "marker": {
             "colorbar": {
              "outlinewidth": 0,
              "ticks": ""
             }
            },
            "type": "scatterternary"
           }
          ],
          "surface": [
           {
            "colorbar": {
             "outlinewidth": 0,
             "ticks": ""
            },
            "colorscale": [
             [
              0,
              "#0d0887"
             ],
             [
              0.1111111111111111,
              "#46039f"
             ],
             [
              0.2222222222222222,
              "#7201a8"
             ],
             [
              0.3333333333333333,
              "#9c179e"
             ],
             [
              0.4444444444444444,
              "#bd3786"
             ],
             [
              0.5555555555555556,
              "#d8576b"
             ],
             [
              0.6666666666666666,
              "#ed7953"
             ],
             [
              0.7777777777777778,
              "#fb9f3a"
             ],
             [
              0.8888888888888888,
              "#fdca26"
             ],
             [
              1,
              "#f0f921"
             ]
            ],
            "type": "surface"
           }
          ],
          "table": [
           {
            "cells": {
             "fill": {
              "color": "#EBF0F8"
             },
             "line": {
              "color": "white"
             }
            },
            "header": {
             "fill": {
              "color": "#C8D4E3"
             },
             "line": {
              "color": "white"
             }
            },
            "type": "table"
           }
          ]
         },
         "layout": {
          "annotationdefaults": {
           "arrowcolor": "#2a3f5f",
           "arrowhead": 0,
           "arrowwidth": 1
          },
          "autotypenumbers": "strict",
          "coloraxis": {
           "colorbar": {
            "outlinewidth": 0,
            "ticks": ""
           }
          },
          "colorscale": {
           "diverging": [
            [
             0,
             "#8e0152"
            ],
            [
             0.1,
             "#c51b7d"
            ],
            [
             0.2,
             "#de77ae"
            ],
            [
             0.3,
             "#f1b6da"
            ],
            [
             0.4,
             "#fde0ef"
            ],
            [
             0.5,
             "#f7f7f7"
            ],
            [
             0.6,
             "#e6f5d0"
            ],
            [
             0.7,
             "#b8e186"
            ],
            [
             0.8,
             "#7fbc41"
            ],
            [
             0.9,
             "#4d9221"
            ],
            [
             1,
             "#276419"
            ]
           ],
           "sequential": [
            [
             0,
             "#0d0887"
            ],
            [
             0.1111111111111111,
             "#46039f"
            ],
            [
             0.2222222222222222,
             "#7201a8"
            ],
            [
             0.3333333333333333,
             "#9c179e"
            ],
            [
             0.4444444444444444,
             "#bd3786"
            ],
            [
             0.5555555555555556,
             "#d8576b"
            ],
            [
             0.6666666666666666,
             "#ed7953"
            ],
            [
             0.7777777777777778,
             "#fb9f3a"
            ],
            [
             0.8888888888888888,
             "#fdca26"
            ],
            [
             1,
             "#f0f921"
            ]
           ],
           "sequentialminus": [
            [
             0,
             "#0d0887"
            ],
            [
             0.1111111111111111,
             "#46039f"
            ],
            [
             0.2222222222222222,
             "#7201a8"
            ],
            [
             0.3333333333333333,
             "#9c179e"
            ],
            [
             0.4444444444444444,
             "#bd3786"
            ],
            [
             0.5555555555555556,
             "#d8576b"
            ],
            [
             0.6666666666666666,
             "#ed7953"
            ],
            [
             0.7777777777777778,
             "#fb9f3a"
            ],
            [
             0.8888888888888888,
             "#fdca26"
            ],
            [
             1,
             "#f0f921"
            ]
           ]
          },
          "colorway": [
           "#636efa",
           "#EF553B",
           "#00cc96",
           "#ab63fa",
           "#FFA15A",
           "#19d3f3",
           "#FF6692",
           "#B6E880",
           "#FF97FF",
           "#FECB52"
          ],
          "font": {
           "color": "#2a3f5f"
          },
          "geo": {
           "bgcolor": "white",
           "lakecolor": "white",
           "landcolor": "#E5ECF6",
           "showlakes": true,
           "showland": true,
           "subunitcolor": "white"
          },
          "hoverlabel": {
           "align": "left"
          },
          "hovermode": "closest",
          "mapbox": {
           "style": "light"
          },
          "paper_bgcolor": "white",
          "plot_bgcolor": "#E5ECF6",
          "polar": {
           "angularaxis": {
            "gridcolor": "white",
            "linecolor": "white",
            "ticks": ""
           },
           "bgcolor": "#E5ECF6",
           "radialaxis": {
            "gridcolor": "white",
            "linecolor": "white",
            "ticks": ""
           }
          },
          "scene": {
           "xaxis": {
            "backgroundcolor": "#E5ECF6",
            "gridcolor": "white",
            "gridwidth": 2,
            "linecolor": "white",
            "showbackground": true,
            "ticks": "",
            "zerolinecolor": "white"
           },
           "yaxis": {
            "backgroundcolor": "#E5ECF6",
            "gridcolor": "white",
            "gridwidth": 2,
            "linecolor": "white",
            "showbackground": true,
            "ticks": "",
            "zerolinecolor": "white"
           },
           "zaxis": {
            "backgroundcolor": "#E5ECF6",
            "gridcolor": "white",
            "gridwidth": 2,
            "linecolor": "white",
            "showbackground": true,
            "ticks": "",
            "zerolinecolor": "white"
           }
          },
          "shapedefaults": {
           "line": {
            "color": "#2a3f5f"
           }
          },
          "ternary": {
           "aaxis": {
            "gridcolor": "white",
            "linecolor": "white",
            "ticks": ""
           },
           "baxis": {
            "gridcolor": "white",
            "linecolor": "white",
            "ticks": ""
           },
           "bgcolor": "#E5ECF6",
           "caxis": {
            "gridcolor": "white",
            "linecolor": "white",
            "ticks": ""
           }
          },
          "title": {
           "x": 0.05
          },
          "xaxis": {
           "automargin": true,
           "gridcolor": "white",
           "linecolor": "white",
           "ticks": "",
           "title": {
            "standoff": 15
           },
           "zerolinecolor": "white",
           "zerolinewidth": 2
          },
          "yaxis": {
           "automargin": true,
           "gridcolor": "white",
           "linecolor": "white",
           "ticks": "",
           "title": {
            "standoff": 15
           },
           "zerolinecolor": "white",
           "zerolinewidth": 2
          }
         }
        },
        "title": {
         "text": "Top 10 Most Common Genre Combinations",
         "x": 0.5
        },
        "width": 1000
       }
      }
     },
     "metadata": {},
     "output_type": "display_data"
    }
   ],
   "source": [
    "combos = [tuple(sorted(g)) for g in df['genres'] if len(g) > 1]\n",
    "combo_counts = Counter(combos)\n",
    "top_combos = combo_counts.most_common(10)\n",
    "\n",
    "df_combos = pd.DataFrame(top_combos, columns=['combo', 'count'])\n",
    "df_combos['combo_str'] = df_combos['combo'].apply(lambda x: ', '.join(x))\n",
    "\n",
    "df_combos['hover_text'] = df_combos.apply(\n",
    "    lambda row: f\"Genres = {row['combo_str']}<br>Count = {row['count']}\", axis=1\n",
    ")\n",
    "\n",
    "fig = px.treemap(\n",
    "    df_combos,\n",
    "    path=['combo_str'],\n",
    "    values='count',\n",
    "    title='Top 10 Most Common Genre Combinations',\n",
    "    hover_data={'hover_text':True, 'combo_str':False, 'count':False}\n",
    ")\n",
    "\n",
    "fig.update_layout(\n",
    "    title_x=0.5,\n",
    "    width=1000,\n",
    "    height=600,\n",
    "    margin=dict(t=50, l=25, r=25, b=25)\n",
    ")\n",
    "\n",
    "fig.update_traces(hovertemplate='%{customdata[0]}<extra></extra>')\n",
    "\n",
    "fig.show()"
   ]
  },
  {
   "cell_type": "markdown",
   "id": "cde7d03b",
   "metadata": {},
   "source": [
    "Creating another version in English"
   ]
  },
  {
   "cell_type": "code",
   "execution_count": 63,
   "id": "92463f0f",
   "metadata": {},
   "outputs": [
    {
     "name": "stdout",
     "output_type": "stream",
     "text": [
      "[(('Dramat', 'Wojenny'), 21), (('Biograficzny', 'Dramat'), 15), (('Akcja', 'Sci-Fi'), 13), (('Dramat', 'Komedia'), 12), (('Dramat', 'Thriller'), 12), (('Dramat', 'Psychologiczny'), 10), (('Fantasy', 'Przygodowy'), 9), (('Kryminał', 'Thriller'), 9), (('Dramat', 'Gangsterski'), 8), (('Familijny', 'Fantasy', 'Przygodowy'), 7)]\n"
     ]
    }
   ],
   "source": [
    "print(top_combos)"
   ]
  },
  {
   "cell_type": "code",
   "execution_count": 66,
   "id": "c84b0346",
   "metadata": {},
   "outputs": [
    {
     "data": {
      "application/vnd.plotly.v1+json": {
       "config": {
        "plotlyServerURL": "https://plot.ly"
       },
       "data": [
        {
         "branchvalues": "total",
         "customdata": [
          [
           "Genres = Drama, War<br>Count = 21",
           "Drama, War",
           21
          ],
          [
           "Genres = Biographical, Drama<br>Count = 15",
           "Biographical, Drama",
           15
          ],
          [
           "Genres = Action, Sci-Fi<br>Count = 13",
           "Action, Sci-Fi",
           13
          ],
          [
           "Genres = Drama, Comedy<br>Count = 12",
           "Drama, Comedy",
           12
          ],
          [
           "Genres = Drama, Thriller<br>Count = 12",
           "Drama, Thriller",
           12
          ],
          [
           "Genres = Drama, Psychological<br>Count = 10",
           "Drama, Psychological",
           10
          ],
          [
           "Genres = Fantasy, Adventure<br>Count = 9",
           "Fantasy, Adventure",
           9
          ],
          [
           "Genres = Crime, Thriller<br>Count = 9",
           "Crime, Thriller",
           9
          ],
          [
           "Genres = Drama, Gangster<br>Count = 8",
           "Drama, Gangster",
           8
          ],
          [
           "Genres = Family, Fantasy, Adventure<br>Count = 7",
           "Family, Fantasy, Adventure",
           7
          ]
         ],
         "domain": {
          "x": [
           0,
           1
          ],
          "y": [
           0,
           1
          ]
         },
         "hovertemplate": "%{customdata[0]}<extra></extra>",
         "ids": [
          "Drama, War",
          "Biographical, Drama",
          "Action, Sci-Fi",
          "Drama, Comedy",
          "Drama, Thriller",
          "Drama, Psychological",
          "Fantasy, Adventure",
          "Crime, Thriller",
          "Drama, Gangster",
          "Family, Fantasy, Adventure"
         ],
         "labels": [
          "Drama, War",
          "Biographical, Drama",
          "Action, Sci-Fi",
          "Drama, Comedy",
          "Drama, Thriller",
          "Drama, Psychological",
          "Fantasy, Adventure",
          "Crime, Thriller",
          "Drama, Gangster",
          "Family, Fantasy, Adventure"
         ],
         "name": "",
         "parents": [
          "",
          "",
          "",
          "",
          "",
          "",
          "",
          "",
          "",
          ""
         ],
         "type": "treemap",
         "values": {
          "bdata": "AAAAAAAANUAAAAAAAAAuQAAAAAAAACpAAAAAAAAAKEAAAAAAAAAoQAAAAAAAACRAAAAAAAAAIkAAAAAAAAAiQAAAAAAAACBAAAAAAAAAHEA=",
          "dtype": "f8"
         }
        }
       ],
       "layout": {
        "height": 600,
        "legend": {
         "tracegroupgap": 0
        },
        "margin": {
         "b": 25,
         "l": 25,
         "r": 25,
         "t": 50
        },
        "template": {
         "data": {
          "bar": [
           {
            "error_x": {
             "color": "#2a3f5f"
            },
            "error_y": {
             "color": "#2a3f5f"
            },
            "marker": {
             "line": {
              "color": "#E5ECF6",
              "width": 0.5
             },
             "pattern": {
              "fillmode": "overlay",
              "size": 10,
              "solidity": 0.2
             }
            },
            "type": "bar"
           }
          ],
          "barpolar": [
           {
            "marker": {
             "line": {
              "color": "#E5ECF6",
              "width": 0.5
             },
             "pattern": {
              "fillmode": "overlay",
              "size": 10,
              "solidity": 0.2
             }
            },
            "type": "barpolar"
           }
          ],
          "carpet": [
           {
            "aaxis": {
             "endlinecolor": "#2a3f5f",
             "gridcolor": "white",
             "linecolor": "white",
             "minorgridcolor": "white",
             "startlinecolor": "#2a3f5f"
            },
            "baxis": {
             "endlinecolor": "#2a3f5f",
             "gridcolor": "white",
             "linecolor": "white",
             "minorgridcolor": "white",
             "startlinecolor": "#2a3f5f"
            },
            "type": "carpet"
           }
          ],
          "choropleth": [
           {
            "colorbar": {
             "outlinewidth": 0,
             "ticks": ""
            },
            "type": "choropleth"
           }
          ],
          "contour": [
           {
            "colorbar": {
             "outlinewidth": 0,
             "ticks": ""
            },
            "colorscale": [
             [
              0,
              "#0d0887"
             ],
             [
              0.1111111111111111,
              "#46039f"
             ],
             [
              0.2222222222222222,
              "#7201a8"
             ],
             [
              0.3333333333333333,
              "#9c179e"
             ],
             [
              0.4444444444444444,
              "#bd3786"
             ],
             [
              0.5555555555555556,
              "#d8576b"
             ],
             [
              0.6666666666666666,
              "#ed7953"
             ],
             [
              0.7777777777777778,
              "#fb9f3a"
             ],
             [
              0.8888888888888888,
              "#fdca26"
             ],
             [
              1,
              "#f0f921"
             ]
            ],
            "type": "contour"
           }
          ],
          "contourcarpet": [
           {
            "colorbar": {
             "outlinewidth": 0,
             "ticks": ""
            },
            "type": "contourcarpet"
           }
          ],
          "heatmap": [
           {
            "colorbar": {
             "outlinewidth": 0,
             "ticks": ""
            },
            "colorscale": [
             [
              0,
              "#0d0887"
             ],
             [
              0.1111111111111111,
              "#46039f"
             ],
             [
              0.2222222222222222,
              "#7201a8"
             ],
             [
              0.3333333333333333,
              "#9c179e"
             ],
             [
              0.4444444444444444,
              "#bd3786"
             ],
             [
              0.5555555555555556,
              "#d8576b"
             ],
             [
              0.6666666666666666,
              "#ed7953"
             ],
             [
              0.7777777777777778,
              "#fb9f3a"
             ],
             [
              0.8888888888888888,
              "#fdca26"
             ],
             [
              1,
              "#f0f921"
             ]
            ],
            "type": "heatmap"
           }
          ],
          "histogram": [
           {
            "marker": {
             "pattern": {
              "fillmode": "overlay",
              "size": 10,
              "solidity": 0.2
             }
            },
            "type": "histogram"
           }
          ],
          "histogram2d": [
           {
            "colorbar": {
             "outlinewidth": 0,
             "ticks": ""
            },
            "colorscale": [
             [
              0,
              "#0d0887"
             ],
             [
              0.1111111111111111,
              "#46039f"
             ],
             [
              0.2222222222222222,
              "#7201a8"
             ],
             [
              0.3333333333333333,
              "#9c179e"
             ],
             [
              0.4444444444444444,
              "#bd3786"
             ],
             [
              0.5555555555555556,
              "#d8576b"
             ],
             [
              0.6666666666666666,
              "#ed7953"
             ],
             [
              0.7777777777777778,
              "#fb9f3a"
             ],
             [
              0.8888888888888888,
              "#fdca26"
             ],
             [
              1,
              "#f0f921"
             ]
            ],
            "type": "histogram2d"
           }
          ],
          "histogram2dcontour": [
           {
            "colorbar": {
             "outlinewidth": 0,
             "ticks": ""
            },
            "colorscale": [
             [
              0,
              "#0d0887"
             ],
             [
              0.1111111111111111,
              "#46039f"
             ],
             [
              0.2222222222222222,
              "#7201a8"
             ],
             [
              0.3333333333333333,
              "#9c179e"
             ],
             [
              0.4444444444444444,
              "#bd3786"
             ],
             [
              0.5555555555555556,
              "#d8576b"
             ],
             [
              0.6666666666666666,
              "#ed7953"
             ],
             [
              0.7777777777777778,
              "#fb9f3a"
             ],
             [
              0.8888888888888888,
              "#fdca26"
             ],
             [
              1,
              "#f0f921"
             ]
            ],
            "type": "histogram2dcontour"
           }
          ],
          "mesh3d": [
           {
            "colorbar": {
             "outlinewidth": 0,
             "ticks": ""
            },
            "type": "mesh3d"
           }
          ],
          "parcoords": [
           {
            "line": {
             "colorbar": {
              "outlinewidth": 0,
              "ticks": ""
             }
            },
            "type": "parcoords"
           }
          ],
          "pie": [
           {
            "automargin": true,
            "type": "pie"
           }
          ],
          "scatter": [
           {
            "fillpattern": {
             "fillmode": "overlay",
             "size": 10,
             "solidity": 0.2
            },
            "type": "scatter"
           }
          ],
          "scatter3d": [
           {
            "line": {
             "colorbar": {
              "outlinewidth": 0,
              "ticks": ""
             }
            },
            "marker": {
             "colorbar": {
              "outlinewidth": 0,
              "ticks": ""
             }
            },
            "type": "scatter3d"
           }
          ],
          "scattercarpet": [
           {
            "marker": {
             "colorbar": {
              "outlinewidth": 0,
              "ticks": ""
             }
            },
            "type": "scattercarpet"
           }
          ],
          "scattergeo": [
           {
            "marker": {
             "colorbar": {
              "outlinewidth": 0,
              "ticks": ""
             }
            },
            "type": "scattergeo"
           }
          ],
          "scattergl": [
           {
            "marker": {
             "colorbar": {
              "outlinewidth": 0,
              "ticks": ""
             }
            },
            "type": "scattergl"
           }
          ],
          "scattermap": [
           {
            "marker": {
             "colorbar": {
              "outlinewidth": 0,
              "ticks": ""
             }
            },
            "type": "scattermap"
           }
          ],
          "scattermapbox": [
           {
            "marker": {
             "colorbar": {
              "outlinewidth": 0,
              "ticks": ""
             }
            },
            "type": "scattermapbox"
           }
          ],
          "scatterpolar": [
           {
            "marker": {
             "colorbar": {
              "outlinewidth": 0,
              "ticks": ""
             }
            },
            "type": "scatterpolar"
           }
          ],
          "scatterpolargl": [
           {
            "marker": {
             "colorbar": {
              "outlinewidth": 0,
              "ticks": ""
             }
            },
            "type": "scatterpolargl"
           }
          ],
          "scatterternary": [
           {
            "marker": {
             "colorbar": {
              "outlinewidth": 0,
              "ticks": ""
             }
            },
            "type": "scatterternary"
           }
          ],
          "surface": [
           {
            "colorbar": {
             "outlinewidth": 0,
             "ticks": ""
            },
            "colorscale": [
             [
              0,
              "#0d0887"
             ],
             [
              0.1111111111111111,
              "#46039f"
             ],
             [
              0.2222222222222222,
              "#7201a8"
             ],
             [
              0.3333333333333333,
              "#9c179e"
             ],
             [
              0.4444444444444444,
              "#bd3786"
             ],
             [
              0.5555555555555556,
              "#d8576b"
             ],
             [
              0.6666666666666666,
              "#ed7953"
             ],
             [
              0.7777777777777778,
              "#fb9f3a"
             ],
             [
              0.8888888888888888,
              "#fdca26"
             ],
             [
              1,
              "#f0f921"
             ]
            ],
            "type": "surface"
           }
          ],
          "table": [
           {
            "cells": {
             "fill": {
              "color": "#EBF0F8"
             },
             "line": {
              "color": "white"
             }
            },
            "header": {
             "fill": {
              "color": "#C8D4E3"
             },
             "line": {
              "color": "white"
             }
            },
            "type": "table"
           }
          ]
         },
         "layout": {
          "annotationdefaults": {
           "arrowcolor": "#2a3f5f",
           "arrowhead": 0,
           "arrowwidth": 1
          },
          "autotypenumbers": "strict",
          "coloraxis": {
           "colorbar": {
            "outlinewidth": 0,
            "ticks": ""
           }
          },
          "colorscale": {
           "diverging": [
            [
             0,
             "#8e0152"
            ],
            [
             0.1,
             "#c51b7d"
            ],
            [
             0.2,
             "#de77ae"
            ],
            [
             0.3,
             "#f1b6da"
            ],
            [
             0.4,
             "#fde0ef"
            ],
            [
             0.5,
             "#f7f7f7"
            ],
            [
             0.6,
             "#e6f5d0"
            ],
            [
             0.7,
             "#b8e186"
            ],
            [
             0.8,
             "#7fbc41"
            ],
            [
             0.9,
             "#4d9221"
            ],
            [
             1,
             "#276419"
            ]
           ],
           "sequential": [
            [
             0,
             "#0d0887"
            ],
            [
             0.1111111111111111,
             "#46039f"
            ],
            [
             0.2222222222222222,
             "#7201a8"
            ],
            [
             0.3333333333333333,
             "#9c179e"
            ],
            [
             0.4444444444444444,
             "#bd3786"
            ],
            [
             0.5555555555555556,
             "#d8576b"
            ],
            [
             0.6666666666666666,
             "#ed7953"
            ],
            [
             0.7777777777777778,
             "#fb9f3a"
            ],
            [
             0.8888888888888888,
             "#fdca26"
            ],
            [
             1,
             "#f0f921"
            ]
           ],
           "sequentialminus": [
            [
             0,
             "#0d0887"
            ],
            [
             0.1111111111111111,
             "#46039f"
            ],
            [
             0.2222222222222222,
             "#7201a8"
            ],
            [
             0.3333333333333333,
             "#9c179e"
            ],
            [
             0.4444444444444444,
             "#bd3786"
            ],
            [
             0.5555555555555556,
             "#d8576b"
            ],
            [
             0.6666666666666666,
             "#ed7953"
            ],
            [
             0.7777777777777778,
             "#fb9f3a"
            ],
            [
             0.8888888888888888,
             "#fdca26"
            ],
            [
             1,
             "#f0f921"
            ]
           ]
          },
          "colorway": [
           "#636efa",
           "#EF553B",
           "#00cc96",
           "#ab63fa",
           "#FFA15A",
           "#19d3f3",
           "#FF6692",
           "#B6E880",
           "#FF97FF",
           "#FECB52"
          ],
          "font": {
           "color": "#2a3f5f"
          },
          "geo": {
           "bgcolor": "white",
           "lakecolor": "white",
           "landcolor": "#E5ECF6",
           "showlakes": true,
           "showland": true,
           "subunitcolor": "white"
          },
          "hoverlabel": {
           "align": "left"
          },
          "hovermode": "closest",
          "mapbox": {
           "style": "light"
          },
          "paper_bgcolor": "white",
          "plot_bgcolor": "#E5ECF6",
          "polar": {
           "angularaxis": {
            "gridcolor": "white",
            "linecolor": "white",
            "ticks": ""
           },
           "bgcolor": "#E5ECF6",
           "radialaxis": {
            "gridcolor": "white",
            "linecolor": "white",
            "ticks": ""
           }
          },
          "scene": {
           "xaxis": {
            "backgroundcolor": "#E5ECF6",
            "gridcolor": "white",
            "gridwidth": 2,
            "linecolor": "white",
            "showbackground": true,
            "ticks": "",
            "zerolinecolor": "white"
           },
           "yaxis": {
            "backgroundcolor": "#E5ECF6",
            "gridcolor": "white",
            "gridwidth": 2,
            "linecolor": "white",
            "showbackground": true,
            "ticks": "",
            "zerolinecolor": "white"
           },
           "zaxis": {
            "backgroundcolor": "#E5ECF6",
            "gridcolor": "white",
            "gridwidth": 2,
            "linecolor": "white",
            "showbackground": true,
            "ticks": "",
            "zerolinecolor": "white"
           }
          },
          "shapedefaults": {
           "line": {
            "color": "#2a3f5f"
           }
          },
          "ternary": {
           "aaxis": {
            "gridcolor": "white",
            "linecolor": "white",
            "ticks": ""
           },
           "baxis": {
            "gridcolor": "white",
            "linecolor": "white",
            "ticks": ""
           },
           "bgcolor": "#E5ECF6",
           "caxis": {
            "gridcolor": "white",
            "linecolor": "white",
            "ticks": ""
           }
          },
          "title": {
           "x": 0.05
          },
          "xaxis": {
           "automargin": true,
           "gridcolor": "white",
           "linecolor": "white",
           "ticks": "",
           "title": {
            "standoff": 15
           },
           "zerolinecolor": "white",
           "zerolinewidth": 2
          },
          "yaxis": {
           "automargin": true,
           "gridcolor": "white",
           "linecolor": "white",
           "ticks": "",
           "title": {
            "standoff": 15
           },
           "zerolinecolor": "white",
           "zerolinewidth": 2
          }
         }
        },
        "title": {
         "text": "Top 10 Most Common Genre Combinations",
         "x": 0.5
        },
        "width": 1000
       }
      }
     },
     "metadata": {},
     "output_type": "display_data"
    }
   ],
   "source": [
    "combos = [tuple(sorted(g)) for g in df['genres'] if len(g) > 1]\n",
    "\n",
    "combo_counts = Counter(combos)\n",
    "top_combos = combo_counts.most_common(10)\n",
    "\n",
    "df_combos = pd.DataFrame(top_combos, columns=['combo', 'count'])\n",
    "\n",
    "unique_genres = set()\n",
    "for combo in df_combos['combo']:\n",
    "    unique_genres.update(combo)\n",
    "\n",
    "genre_translation_subset = {\n",
    "    'Dramat': 'Drama',\n",
    "    'Wojenny': 'War',\n",
    "    'Biograficzny': 'Biographical',\n",
    "    'Akcja': 'Action',\n",
    "    'Sci-Fi': 'Sci-Fi',\n",
    "    'Komedia': 'Comedy',\n",
    "    'Thriller': 'Thriller',\n",
    "    'Psychologiczny': 'Psychological',\n",
    "    'Fantasy': 'Fantasy',\n",
    "    'Przygodowy': 'Adventure',\n",
    "    'Kryminał': 'Crime',\n",
    "    'Gangsterski': 'Gangster',\n",
    "    'Familijny': 'Family'\n",
    "}\n",
    "\n",
    "df_combos['combo_en'] = df_combos['combo'].apply(\n",
    "    lambda combo: [genre_translation_subset.get(g, g) for g in combo]\n",
    ")\n",
    "\n",
    "df_combos['combo_str_en'] = df_combos['combo_en'].apply(lambda x: ', '.join(x))\n",
    "\n",
    "df_combos['hover_text_en'] = df_combos.apply(\n",
    "    lambda row: f\"Genres = {row['combo_str_en']}<br>Count = {row['count']}\", axis=1\n",
    ")\n",
    "\n",
    "fig = px.treemap(\n",
    "    df_combos,\n",
    "    path=['combo_str_en'],\n",
    "    values='count',\n",
    "    title='Top 10 Most Common Genre Combinations',\n",
    "    hover_data={'hover_text_en': True, 'combo_str_en': False, 'count': False}\n",
    ")\n",
    "\n",
    "fig.update_layout(\n",
    "    title_x=0.5, \n",
    "    width=1000,\n",
    "    height=600,\n",
    "    margin=dict(t=50, l=25, r=25, b=25)\n",
    ")\n",
    "\n",
    "fig.update_traces(hovertemplate='%{customdata[0]}<extra></extra>')\n",
    "fig.write_html(\"genres_treemap.html\")\n",
    "#fig.write_image(\"genres_treemap.png\")       # Uncomment to save static png version\n",
    "fig.show()"
   ]
  }
 ],
 "metadata": {
  "kernelspec": {
   "display_name": "Python 3",
   "language": "python",
   "name": "python3"
  },
  "language_info": {
   "codemirror_mode": {
    "name": "ipython",
    "version": 3
   },
   "file_extension": ".py",
   "mimetype": "text/x-python",
   "name": "python",
   "nbconvert_exporter": "python",
   "pygments_lexer": "ipython3",
   "version": "3.11.9"
  }
 },
 "nbformat": 4,
 "nbformat_minor": 5
}
