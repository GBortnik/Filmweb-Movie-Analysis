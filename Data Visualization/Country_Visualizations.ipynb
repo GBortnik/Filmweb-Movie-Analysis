{
 "cells": [
  {
   "cell_type": "code",
   "execution_count": 1,
   "id": "c29d92e5",
   "metadata": {},
   "outputs": [
    {
     "name": "stdout",
     "output_type": "stream",
     "text": [
      "Requirement already satisfied: matplotlib==3.10.3 in c:\\users\\gbort\\appdata\\local\\packages\\pythonsoftwarefoundation.python.3.11_qbz5n2kfra8p0\\localcache\\local-packages\\python311\\site-packages (3.10.3)\n",
      "Requirement already satisfied: seaborn==0.13.2 in c:\\users\\gbort\\appdata\\local\\packages\\pythonsoftwarefoundation.python.3.11_qbz5n2kfra8p0\\localcache\\local-packages\\python311\\site-packages (0.13.2)\n",
      "Requirement already satisfied: plotly==6.1.2 in c:\\users\\gbort\\appdata\\local\\packages\\pythonsoftwarefoundation.python.3.11_qbz5n2kfra8p0\\localcache\\local-packages\\python311\\site-packages (6.1.2)\n",
      "Requirement already satisfied: pycountry==24.6.1 in c:\\users\\gbort\\appdata\\local\\packages\\pythonsoftwarefoundation.python.3.11_qbz5n2kfra8p0\\localcache\\local-packages\\python311\\site-packages (24.6.1)\n",
      "Requirement already satisfied: nbformat in c:\\users\\gbort\\appdata\\local\\packages\\pythonsoftwarefoundation.python.3.11_qbz5n2kfra8p0\\localcache\\local-packages\\python311\\site-packages (5.10.4)\n",
      "Requirement already satisfied: contourpy>=1.0.1 in c:\\users\\gbort\\appdata\\local\\packages\\pythonsoftwarefoundation.python.3.11_qbz5n2kfra8p0\\localcache\\local-packages\\python311\\site-packages (from matplotlib==3.10.3) (1.3.2)\n",
      "Requirement already satisfied: cycler>=0.10 in c:\\users\\gbort\\appdata\\local\\packages\\pythonsoftwarefoundation.python.3.11_qbz5n2kfra8p0\\localcache\\local-packages\\python311\\site-packages (from matplotlib==3.10.3) (0.12.1)\n",
      "Requirement already satisfied: fonttools>=4.22.0 in c:\\users\\gbort\\appdata\\local\\packages\\pythonsoftwarefoundation.python.3.11_qbz5n2kfra8p0\\localcache\\local-packages\\python311\\site-packages (from matplotlib==3.10.3) (4.58.2)\n",
      "Requirement already satisfied: kiwisolver>=1.3.1 in c:\\users\\gbort\\appdata\\local\\packages\\pythonsoftwarefoundation.python.3.11_qbz5n2kfra8p0\\localcache\\local-packages\\python311\\site-packages (from matplotlib==3.10.3) (1.4.8)\n",
      "Requirement already satisfied: numpy>=1.23 in c:\\users\\gbort\\appdata\\local\\packages\\pythonsoftwarefoundation.python.3.11_qbz5n2kfra8p0\\localcache\\local-packages\\python311\\site-packages (from matplotlib==3.10.3) (2.2.6)\n",
      "Requirement already satisfied: packaging>=20.0 in c:\\users\\gbort\\appdata\\local\\packages\\pythonsoftwarefoundation.python.3.11_qbz5n2kfra8p0\\localcache\\local-packages\\python311\\site-packages (from matplotlib==3.10.3) (25.0)\n",
      "Requirement already satisfied: pillow>=8 in c:\\users\\gbort\\appdata\\local\\packages\\pythonsoftwarefoundation.python.3.11_qbz5n2kfra8p0\\localcache\\local-packages\\python311\\site-packages (from matplotlib==3.10.3) (11.2.1)\n",
      "Requirement already satisfied: pyparsing>=2.3.1 in c:\\users\\gbort\\appdata\\local\\packages\\pythonsoftwarefoundation.python.3.11_qbz5n2kfra8p0\\localcache\\local-packages\\python311\\site-packages (from matplotlib==3.10.3) (3.2.3)\n",
      "Requirement already satisfied: python-dateutil>=2.7 in c:\\users\\gbort\\appdata\\local\\packages\\pythonsoftwarefoundation.python.3.11_qbz5n2kfra8p0\\localcache\\local-packages\\python311\\site-packages (from matplotlib==3.10.3) (2.9.0.post0)\n",
      "Requirement already satisfied: pandas>=1.2 in c:\\users\\gbort\\appdata\\local\\packages\\pythonsoftwarefoundation.python.3.11_qbz5n2kfra8p0\\localcache\\local-packages\\python311\\site-packages (from seaborn==0.13.2) (2.2.3)\n",
      "Requirement already satisfied: narwhals>=1.15.1 in c:\\users\\gbort\\appdata\\local\\packages\\pythonsoftwarefoundation.python.3.11_qbz5n2kfra8p0\\localcache\\local-packages\\python311\\site-packages (from plotly==6.1.2) (1.42.1)\n",
      "Requirement already satisfied: fastjsonschema>=2.15 in c:\\users\\gbort\\appdata\\local\\packages\\pythonsoftwarefoundation.python.3.11_qbz5n2kfra8p0\\localcache\\local-packages\\python311\\site-packages (from nbformat) (2.21.1)\n",
      "Requirement already satisfied: jsonschema>=2.6 in c:\\users\\gbort\\appdata\\local\\packages\\pythonsoftwarefoundation.python.3.11_qbz5n2kfra8p0\\localcache\\local-packages\\python311\\site-packages (from nbformat) (4.24.0)\n",
      "Requirement already satisfied: jupyter-core!=5.0.*,>=4.12 in c:\\users\\gbort\\appdata\\local\\packages\\pythonsoftwarefoundation.python.3.11_qbz5n2kfra8p0\\localcache\\local-packages\\python311\\site-packages (from nbformat) (5.8.1)\n",
      "Requirement already satisfied: traitlets>=5.1 in c:\\users\\gbort\\appdata\\local\\packages\\pythonsoftwarefoundation.python.3.11_qbz5n2kfra8p0\\localcache\\local-packages\\python311\\site-packages (from nbformat) (5.14.3)\n",
      "Requirement already satisfied: attrs>=22.2.0 in c:\\users\\gbort\\appdata\\local\\packages\\pythonsoftwarefoundation.python.3.11_qbz5n2kfra8p0\\localcache\\local-packages\\python311\\site-packages (from jsonschema>=2.6->nbformat) (25.3.0)\n",
      "Requirement already satisfied: jsonschema-specifications>=2023.03.6 in c:\\users\\gbort\\appdata\\local\\packages\\pythonsoftwarefoundation.python.3.11_qbz5n2kfra8p0\\localcache\\local-packages\\python311\\site-packages (from jsonschema>=2.6->nbformat) (2025.4.1)\n",
      "Requirement already satisfied: referencing>=0.28.4 in c:\\users\\gbort\\appdata\\local\\packages\\pythonsoftwarefoundation.python.3.11_qbz5n2kfra8p0\\localcache\\local-packages\\python311\\site-packages (from jsonschema>=2.6->nbformat) (0.36.2)\n",
      "Requirement already satisfied: rpds-py>=0.7.1 in c:\\users\\gbort\\appdata\\local\\packages\\pythonsoftwarefoundation.python.3.11_qbz5n2kfra8p0\\localcache\\local-packages\\python311\\site-packages (from jsonschema>=2.6->nbformat) (0.25.1)\n",
      "Requirement already satisfied: platformdirs>=2.5 in c:\\users\\gbort\\appdata\\local\\packages\\pythonsoftwarefoundation.python.3.11_qbz5n2kfra8p0\\localcache\\local-packages\\python311\\site-packages (from jupyter-core!=5.0.*,>=4.12->nbformat) (4.3.8)\n",
      "Requirement already satisfied: pywin32>=300 in c:\\users\\gbort\\appdata\\local\\packages\\pythonsoftwarefoundation.python.3.11_qbz5n2kfra8p0\\localcache\\local-packages\\python311\\site-packages (from jupyter-core!=5.0.*,>=4.12->nbformat) (310)\n",
      "Requirement already satisfied: pytz>=2020.1 in c:\\users\\gbort\\appdata\\local\\packages\\pythonsoftwarefoundation.python.3.11_qbz5n2kfra8p0\\localcache\\local-packages\\python311\\site-packages (from pandas>=1.2->seaborn==0.13.2) (2025.2)\n",
      "Requirement already satisfied: tzdata>=2022.7 in c:\\users\\gbort\\appdata\\local\\packages\\pythonsoftwarefoundation.python.3.11_qbz5n2kfra8p0\\localcache\\local-packages\\python311\\site-packages (from pandas>=1.2->seaborn==0.13.2) (2025.2)\n",
      "Requirement already satisfied: six>=1.5 in c:\\users\\gbort\\appdata\\local\\packages\\pythonsoftwarefoundation.python.3.11_qbz5n2kfra8p0\\localcache\\local-packages\\python311\\site-packages (from python-dateutil>=2.7->matplotlib==3.10.3) (1.17.0)\n",
      "Requirement already satisfied: typing-extensions>=4.4.0 in c:\\users\\gbort\\appdata\\local\\packages\\pythonsoftwarefoundation.python.3.11_qbz5n2kfra8p0\\localcache\\local-packages\\python311\\site-packages (from referencing>=0.28.4->jsonschema>=2.6->nbformat) (4.13.2)\n"
     ]
    },
    {
     "name": "stderr",
     "output_type": "stream",
     "text": [
      "\n",
      "[notice] A new release of pip is available: 24.0 -> 25.1.1\n",
      "[notice] To update, run: C:\\Users\\gbort\\AppData\\Local\\Microsoft\\WindowsApps\\PythonSoftwareFoundation.Python.3.11_qbz5n2kfra8p0\\python.exe -m pip install --upgrade pip\n"
     ]
    }
   ],
   "source": [
    "!pip install matplotlib==3.10.3 seaborn==0.13.2 plotly==6.1.2 pycountry==24.6.1 --upgrade nbformat"
   ]
  },
  {
   "cell_type": "code",
   "execution_count": 2,
   "id": "a48afb4e",
   "metadata": {},
   "outputs": [],
   "source": [
    "import pandas as pd\n",
    "import numpy as np\n",
    "import matplotlib.pyplot as plt\n",
    "import seaborn as sns\n",
    "import plotly.express as px\n",
    "import pycountry\n",
    "import ast "
   ]
  },
  {
   "cell_type": "code",
   "execution_count": 3,
   "id": "abd8b0ff",
   "metadata": {},
   "outputs": [],
   "source": [
    "df = pd.read_csv('top500_transformed.csv', index_col=0)"
   ]
  },
  {
   "cell_type": "code",
   "execution_count": 4,
   "id": "ff91ab45",
   "metadata": {},
   "outputs": [
    {
     "data": {
      "text/html": [
       "<div>\n",
       "<style scoped>\n",
       "    .dataframe tbody tr th:only-of-type {\n",
       "        vertical-align: middle;\n",
       "    }\n",
       "\n",
       "    .dataframe tbody tr th {\n",
       "        vertical-align: top;\n",
       "    }\n",
       "\n",
       "    .dataframe thead th {\n",
       "        text-align: right;\n",
       "    }\n",
       "</style>\n",
       "<table border=\"1\" class=\"dataframe\">\n",
       "  <thead>\n",
       "    <tr style=\"text-align: right;\">\n",
       "      <th></th>\n",
       "      <th>title</th>\n",
       "      <th>year</th>\n",
       "      <th>duration</th>\n",
       "      <th>rating_value</th>\n",
       "      <th>rating_count</th>\n",
       "      <th>critic_rating_value</th>\n",
       "      <th>critic_count</th>\n",
       "      <th>directors</th>\n",
       "      <th>screenwriters</th>\n",
       "      <th>production_countries</th>\n",
       "      <th>...</th>\n",
       "      <th>boxoffice_outside_usa</th>\n",
       "      <th>budget</th>\n",
       "      <th>genres</th>\n",
       "      <th>duration_minutes</th>\n",
       "      <th>world_premiere_parsed</th>\n",
       "      <th>polish_premiere_parsed</th>\n",
       "      <th>boxoffice_in$</th>\n",
       "      <th>boxoffice_usa_in$</th>\n",
       "      <th>boxoffice_outside_usa_in$</th>\n",
       "      <th>budget_in$</th>\n",
       "    </tr>\n",
       "    <tr>\n",
       "      <th>position</th>\n",
       "      <th></th>\n",
       "      <th></th>\n",
       "      <th></th>\n",
       "      <th></th>\n",
       "      <th></th>\n",
       "      <th></th>\n",
       "      <th></th>\n",
       "      <th></th>\n",
       "      <th></th>\n",
       "      <th></th>\n",
       "      <th></th>\n",
       "      <th></th>\n",
       "      <th></th>\n",
       "      <th></th>\n",
       "      <th></th>\n",
       "      <th></th>\n",
       "      <th></th>\n",
       "      <th></th>\n",
       "      <th></th>\n",
       "      <th></th>\n",
       "      <th></th>\n",
       "    </tr>\n",
       "  </thead>\n",
       "  <tbody>\n",
       "    <tr>\n",
       "      <th>1</th>\n",
       "      <td>The Shawshank Redemption</td>\n",
       "      <td>1994</td>\n",
       "      <td>2h 22m</td>\n",
       "      <td>8,8</td>\n",
       "      <td>955674</td>\n",
       "      <td>8,2</td>\n",
       "      <td>91</td>\n",
       "      <td>['Frank Darabont']</td>\n",
       "      <td>['Frank Darabont']</td>\n",
       "      <td>['USA']</td>\n",
       "      <td>...</td>\n",
       "      <td>$117 315</td>\n",
       "      <td>$25 000 000</td>\n",
       "      <td>['Dramat']</td>\n",
       "      <td>142</td>\n",
       "      <td>1994-09-10</td>\n",
       "      <td>1995-04-16</td>\n",
       "      <td>28884504.0</td>\n",
       "      <td>28767189.0</td>\n",
       "      <td>117315.0</td>\n",
       "      <td>25000000.0</td>\n",
       "    </tr>\n",
       "    <tr>\n",
       "      <th>2</th>\n",
       "      <td>The Green Mile</td>\n",
       "      <td>1999</td>\n",
       "      <td>3h 8m</td>\n",
       "      <td>8,6</td>\n",
       "      <td>1030633</td>\n",
       "      <td>7,2</td>\n",
       "      <td>73</td>\n",
       "      <td>['Frank Darabont']</td>\n",
       "      <td>['Frank Darabont']</td>\n",
       "      <td>['USA']</td>\n",
       "      <td>...</td>\n",
       "      <td>$150 000 000</td>\n",
       "      <td>$60 000 000</td>\n",
       "      <td>['Dramat']</td>\n",
       "      <td>188</td>\n",
       "      <td>1999-12-06</td>\n",
       "      <td>2000-03-24</td>\n",
       "      <td>286801374.0</td>\n",
       "      <td>136801374.0</td>\n",
       "      <td>150000000.0</td>\n",
       "      <td>60000000.0</td>\n",
       "    </tr>\n",
       "    <tr>\n",
       "      <th>3</th>\n",
       "      <td>Intouchables</td>\n",
       "      <td>2011</td>\n",
       "      <td>1h 52m</td>\n",
       "      <td>8,6</td>\n",
       "      <td>703261</td>\n",
       "      <td>7,1</td>\n",
       "      <td>86</td>\n",
       "      <td>['Olivier Nakache', 'Éric Toledano']</td>\n",
       "      <td>['Olivier Nakache', 'Éric Toledano']</td>\n",
       "      <td>['Francja']</td>\n",
       "      <td>...</td>\n",
       "      <td>$416 389 690</td>\n",
       "      <td>$10 800 000</td>\n",
       "      <td>['Biograficzny', 'Dramat', 'Komedia']</td>\n",
       "      <td>112</td>\n",
       "      <td>2011-09-23</td>\n",
       "      <td>2012-04-13</td>\n",
       "      <td>426588510.0</td>\n",
       "      <td>10198820.0</td>\n",
       "      <td>416389690.0</td>\n",
       "      <td>10800000.0</td>\n",
       "    </tr>\n",
       "    <tr>\n",
       "      <th>4</th>\n",
       "      <td>The Godfather</td>\n",
       "      <td>1972</td>\n",
       "      <td>2h 55m</td>\n",
       "      <td>8,6</td>\n",
       "      <td>566582</td>\n",
       "      <td>9,1</td>\n",
       "      <td>87</td>\n",
       "      <td>['Francis Ford Coppola']</td>\n",
       "      <td>['Mario Puzo', 'Francis Ford Coppola']</td>\n",
       "      <td>['USA']</td>\n",
       "      <td>...</td>\n",
       "      <td>$113 960 743</td>\n",
       "      <td>$6 000 000</td>\n",
       "      <td>['Dramat', 'Gangsterski']</td>\n",
       "      <td>175</td>\n",
       "      <td>1972-03-14</td>\n",
       "      <td>1972-12-31</td>\n",
       "      <td>250341816.0</td>\n",
       "      <td>136381073.0</td>\n",
       "      <td>113960743.0</td>\n",
       "      <td>6000000.0</td>\n",
       "    </tr>\n",
       "    <tr>\n",
       "      <th>5</th>\n",
       "      <td>12 Angry Men</td>\n",
       "      <td>1957</td>\n",
       "      <td>1h 36m</td>\n",
       "      <td>8,7</td>\n",
       "      <td>236509</td>\n",
       "      <td>8,9</td>\n",
       "      <td>86</td>\n",
       "      <td>['Sidney Lumet']</td>\n",
       "      <td>['Reginald Rose']</td>\n",
       "      <td>['USA']</td>\n",
       "      <td>...</td>\n",
       "      <td>NaN</td>\n",
       "      <td>NaN</td>\n",
       "      <td>['Dramat sądowy']</td>\n",
       "      <td>96</td>\n",
       "      <td>1957-04-10</td>\n",
       "      <td>1959-11-01</td>\n",
       "      <td>337000.0</td>\n",
       "      <td>NaN</td>\n",
       "      <td>NaN</td>\n",
       "      <td>NaN</td>\n",
       "    </tr>\n",
       "  </tbody>\n",
       "</table>\n",
       "<p>5 rows × 24 columns</p>\n",
       "</div>"
      ],
      "text/plain": [
       "                             title  year duration rating_value  rating_count  \\\n",
       "position                                                                       \n",
       "1         The Shawshank Redemption  1994   2h 22m          8,8        955674   \n",
       "2                   The Green Mile  1999    3h 8m          8,6       1030633   \n",
       "3                     Intouchables  2011   1h 52m          8,6        703261   \n",
       "4                    The Godfather  1972   2h 55m          8,6        566582   \n",
       "5                     12 Angry Men  1957   1h 36m          8,7        236509   \n",
       "\n",
       "         critic_rating_value  critic_count  \\\n",
       "position                                     \n",
       "1                        8,2            91   \n",
       "2                        7,2            73   \n",
       "3                        7,1            86   \n",
       "4                        9,1            87   \n",
       "5                        8,9            86   \n",
       "\n",
       "                                     directors  \\\n",
       "position                                         \n",
       "1                           ['Frank Darabont']   \n",
       "2                           ['Frank Darabont']   \n",
       "3         ['Olivier Nakache', 'Éric Toledano']   \n",
       "4                     ['Francis Ford Coppola']   \n",
       "5                             ['Sidney Lumet']   \n",
       "\n",
       "                                   screenwriters production_countries  ...  \\\n",
       "position                                                               ...   \n",
       "1                             ['Frank Darabont']              ['USA']  ...   \n",
       "2                             ['Frank Darabont']              ['USA']  ...   \n",
       "3           ['Olivier Nakache', 'Éric Toledano']          ['Francja']  ...   \n",
       "4         ['Mario Puzo', 'Francis Ford Coppola']              ['USA']  ...   \n",
       "5                              ['Reginald Rose']              ['USA']  ...   \n",
       "\n",
       "         boxoffice_outside_usa       budget  \\\n",
       "position                                      \n",
       "1                    $117 315   $25 000 000   \n",
       "2                $150 000 000   $60 000 000   \n",
       "3                $416 389 690   $10 800 000   \n",
       "4                $113 960 743    $6 000 000   \n",
       "5                          NaN          NaN   \n",
       "\n",
       "                                         genres duration_minutes  \\\n",
       "position                                                           \n",
       "1                                    ['Dramat']              142   \n",
       "2                                    ['Dramat']              188   \n",
       "3         ['Biograficzny', 'Dramat', 'Komedia']              112   \n",
       "4                     ['Dramat', 'Gangsterski']              175   \n",
       "5                             ['Dramat sądowy']               96   \n",
       "\n",
       "         world_premiere_parsed polish_premiere_parsed boxoffice_in$  \\\n",
       "position                                                              \n",
       "1                   1994-09-10             1995-04-16    28884504.0   \n",
       "2                   1999-12-06             2000-03-24   286801374.0   \n",
       "3                   2011-09-23             2012-04-13   426588510.0   \n",
       "4                   1972-03-14             1972-12-31   250341816.0   \n",
       "5                   1957-04-10             1959-11-01      337000.0   \n",
       "\n",
       "          boxoffice_usa_in$ boxoffice_outside_usa_in$  budget_in$  \n",
       "position                                                           \n",
       "1                28767189.0                  117315.0  25000000.0  \n",
       "2               136801374.0               150000000.0  60000000.0  \n",
       "3                10198820.0               416389690.0  10800000.0  \n",
       "4               136381073.0               113960743.0   6000000.0  \n",
       "5                       NaN                       NaN         NaN  \n",
       "\n",
       "[5 rows x 24 columns]"
      ]
     },
     "execution_count": 4,
     "metadata": {},
     "output_type": "execute_result"
    }
   ],
   "source": [
    "df.head()"
   ]
  },
  {
   "cell_type": "code",
   "execution_count": 5,
   "id": "25dfd9a5",
   "metadata": {},
   "outputs": [],
   "source": [
    "# Changing string to lists\n",
    "df['production_countries'] = df['production_countries'].apply(ast.literal_eval)\n",
    "\n",
    "exploded_df = df.explode('production_countries').reset_index(drop=False)"
   ]
  },
  {
   "cell_type": "code",
   "execution_count": 6,
   "id": "9a9f9a2b",
   "metadata": {},
   "outputs": [
    {
     "data": {
      "text/html": [
       "<div>\n",
       "<style scoped>\n",
       "    .dataframe tbody tr th:only-of-type {\n",
       "        vertical-align: middle;\n",
       "    }\n",
       "\n",
       "    .dataframe tbody tr th {\n",
       "        vertical-align: top;\n",
       "    }\n",
       "\n",
       "    .dataframe thead th {\n",
       "        text-align: right;\n",
       "    }\n",
       "</style>\n",
       "<table border=\"1\" class=\"dataframe\">\n",
       "  <thead>\n",
       "    <tr style=\"text-align: right;\">\n",
       "      <th></th>\n",
       "      <th>title</th>\n",
       "      <th>production_countries</th>\n",
       "    </tr>\n",
       "  </thead>\n",
       "  <tbody>\n",
       "    <tr>\n",
       "      <th>0</th>\n",
       "      <td>The Shawshank Redemption</td>\n",
       "      <td>USA</td>\n",
       "    </tr>\n",
       "    <tr>\n",
       "      <th>1</th>\n",
       "      <td>The Green Mile</td>\n",
       "      <td>USA</td>\n",
       "    </tr>\n",
       "    <tr>\n",
       "      <th>2</th>\n",
       "      <td>Intouchables</td>\n",
       "      <td>Francja</td>\n",
       "    </tr>\n",
       "    <tr>\n",
       "      <th>3</th>\n",
       "      <td>The Godfather</td>\n",
       "      <td>USA</td>\n",
       "    </tr>\n",
       "    <tr>\n",
       "      <th>4</th>\n",
       "      <td>12 Angry Men</td>\n",
       "      <td>USA</td>\n",
       "    </tr>\n",
       "    <tr>\n",
       "      <th>5</th>\n",
       "      <td>Forrest Gump</td>\n",
       "      <td>USA</td>\n",
       "    </tr>\n",
       "    <tr>\n",
       "      <th>6</th>\n",
       "      <td>One Flew Over the Cuckoo's Nest</td>\n",
       "      <td>USA</td>\n",
       "    </tr>\n",
       "    <tr>\n",
       "      <th>7</th>\n",
       "      <td>The Godfather: Part II</td>\n",
       "      <td>USA</td>\n",
       "    </tr>\n",
       "    <tr>\n",
       "      <th>8</th>\n",
       "      <td>The Lord of the Rings: The Return of the King</td>\n",
       "      <td>Nowa Zelandia</td>\n",
       "    </tr>\n",
       "    <tr>\n",
       "      <th>9</th>\n",
       "      <td>The Lord of the Rings: The Return of the King</td>\n",
       "      <td>USA</td>\n",
       "    </tr>\n",
       "  </tbody>\n",
       "</table>\n",
       "</div>"
      ],
      "text/plain": [
       "                                           title production_countries\n",
       "0                       The Shawshank Redemption                  USA\n",
       "1                                 The Green Mile                  USA\n",
       "2                                   Intouchables              Francja\n",
       "3                                  The Godfather                  USA\n",
       "4                                   12 Angry Men                  USA\n",
       "5                                   Forrest Gump                  USA\n",
       "6                One Flew Over the Cuckoo's Nest                  USA\n",
       "7                         The Godfather: Part II                  USA\n",
       "8  The Lord of the Rings: The Return of the King        Nowa Zelandia\n",
       "9  The Lord of the Rings: The Return of the King                  USA"
      ]
     },
     "execution_count": 6,
     "metadata": {},
     "output_type": "execute_result"
    }
   ],
   "source": [
    "exploded_df[['title','production_countries']].head(10)"
   ]
  },
  {
   "cell_type": "code",
   "execution_count": 7,
   "id": "79689597",
   "metadata": {},
   "outputs": [
    {
     "data": {
      "text/plain": [
       "array(['USA', 'Francja', 'Nowa Zelandia', 'Włochy', 'Niemcy', 'Polska',\n",
       "       'Wielka Brytania', 'Kanada', 'Malta', 'Maroko', 'Australia',\n",
       "       'Hiszpania', 'RFN', 'Zjednoczone Emiraty Arabskie', 'Indie',\n",
       "       'Korea Południowa', 'Japonia', 'Hongkong', 'Brazylia',\n",
       "       'Szwajcaria', 'Irlandia', 'Meksyk', 'Estonia', 'Gruzja', 'Dania',\n",
       "       'Szwecja', 'Belgia', 'Czechy', 'Litwa', 'Serbia', 'Indonezja',\n",
       "       'Singapur', 'Tajlandia', 'Kenia', 'Jordania', 'Arabia Saudyjska',\n",
       "       'RPA', 'Ghana', 'Egipt', 'Chiny', 'Liban', 'Holandia',\n",
       "       'Luksemburg', 'Norwegia', 'Turcja', 'Ukraina', 'Rosja',\n",
       "       'Finlandia', 'Islandia', 'Argentyna', 'Węgry', 'Austria', 'Grecja',\n",
       "       'Fed. Rep. Jugosławii', 'Zambia', 'Bułgaria', 'ZSRR', 'Bahamy'],\n",
       "      dtype=object)"
      ]
     },
     "execution_count": 7,
     "metadata": {},
     "output_type": "execute_result"
    }
   ],
   "source": [
    "exploded_df['production_countries'].unique()"
   ]
  },
  {
   "cell_type": "code",
   "execution_count": 8,
   "id": "5f01281c",
   "metadata": {},
   "outputs": [
    {
     "name": "stdout",
     "output_type": "stream",
     "text": [
      "                      title  production_countries\n",
      "456  Crna mačka, beli mačor  Fed. Rep. Jugosławii\n",
      "627             Underground  Fed. Rep. Jugosławii\n",
      "673                 Stalker                  ZSRR\n",
      "682            Idi i smotri                  ZSRR\n"
     ]
    }
   ],
   "source": [
    "filtered_rows = exploded_df[exploded_df['production_countries'].isin(['Fed. Rep. Jugosławii', 'ZSRR'])]\n",
    "print(filtered_rows[['title', 'production_countries']])"
   ]
  },
  {
   "cell_type": "code",
   "execution_count": 50,
   "id": "deb4432e",
   "metadata": {},
   "outputs": [],
   "source": [
    "country_mapping = {\n",
    "    'USA': 'United States',\n",
    "    'Francja': 'France',\n",
    "    'Nowa Zelandia': 'New Zealand',\n",
    "    'Włochy': 'Italy',\n",
    "    'Niemcy': 'Germany',\n",
    "    'Polska': 'Poland',\n",
    "    'Wielka Brytania': 'United Kingdom',\n",
    "    'Kanada': 'Canada',\n",
    "    'Malta': 'Malta',\n",
    "    'Maroko': 'Morocco',\n",
    "    'Australia': 'Australia',\n",
    "    'Hiszpania': 'Spain',\n",
    "    'RFN': 'Germany',\n",
    "    'Zjednoczone Emiraty Arabskie': 'United Arab Emirates',\n",
    "    'Indie': 'India',\n",
    "    'Korea Południowa': 'South Korea',\n",
    "    'Japonia': 'Japan',\n",
    "    'Hongkong': 'Hong Kong',\n",
    "    'Brazylia': 'Brazil',\n",
    "    'Szwajcaria': 'Switzerland',\n",
    "    'Irlandia': 'Ireland',\n",
    "    'Meksyk': 'Mexico',\n",
    "    'Estonia': 'Estonia',\n",
    "    'Gruzja': 'Georgia',\n",
    "    'Dania': 'Denmark',\n",
    "    'Szwecja': 'Sweden',\n",
    "    'Belgia': 'Belgium',\n",
    "    'Czechy': 'Czech Republic',\n",
    "    'Litwa': 'Lithuania',\n",
    "    'Serbia': 'Serbia',\n",
    "    'Indonezja': 'Indonesia',\n",
    "    'Singapur': 'Singapore',\n",
    "    'Tajlandia': 'Thailand',\n",
    "    'Kenia': 'Kenya',\n",
    "    'Jordania': 'Jordan',\n",
    "    'Arabia Saudyjska': 'Saudi Arabia',\n",
    "    'RPA': 'South Africa',\n",
    "    'Ghana': 'Ghana',\n",
    "    'Egipt': 'Egypt',\n",
    "    'Chiny': 'China',\n",
    "    'Liban': 'Lebanon',\n",
    "    'Holandia': 'Netherlands',\n",
    "    'Luksemburg': 'Luxembourg',\n",
    "    'Norwegia': 'Norway',\n",
    "    'Turcja': 'Türkiye',\n",
    "    'Ukraina': 'Ukraine',\n",
    "    'Rosja': 'Russian Federation',\n",
    "    'Finlandia': 'Finland',\n",
    "    'Islandia': 'Iceland',\n",
    "    'Argentyna': 'Argentina',\n",
    "    'Węgry': 'Hungary',\n",
    "    'Austria': 'Austria',\n",
    "    'Grecja': 'Greece',\n",
    "    'Fed. Rep. Jugosławii': 'Serbia', \n",
    "    'Zambia': 'Zambia',\n",
    "    'Bułgaria': 'Bulgaria',\n",
    "    'ZSRR': 'Russian Federation',\n",
    "    'Bahamy': 'Bahamas'\n",
    "}\n",
    "\n",
    "exploded_df['countries_en'] = exploded_df['production_countries'].map(country_mapping)"
   ]
  },
  {
   "cell_type": "code",
   "execution_count": 54,
   "id": "775351c0",
   "metadata": {},
   "outputs": [
    {
     "data": {
      "text/html": [
       "<div>\n",
       "<style scoped>\n",
       "    .dataframe tbody tr th:only-of-type {\n",
       "        vertical-align: middle;\n",
       "    }\n",
       "\n",
       "    .dataframe tbody tr th {\n",
       "        vertical-align: top;\n",
       "    }\n",
       "\n",
       "    .dataframe thead th {\n",
       "        text-align: right;\n",
       "    }\n",
       "</style>\n",
       "<table border=\"1\" class=\"dataframe\">\n",
       "  <thead>\n",
       "    <tr style=\"text-align: right;\">\n",
       "      <th></th>\n",
       "      <th>production_countries</th>\n",
       "      <th>countries_en</th>\n",
       "    </tr>\n",
       "  </thead>\n",
       "  <tbody>\n",
       "    <tr>\n",
       "      <th>0</th>\n",
       "      <td>USA</td>\n",
       "      <td>United States</td>\n",
       "    </tr>\n",
       "    <tr>\n",
       "      <th>1</th>\n",
       "      <td>USA</td>\n",
       "      <td>United States</td>\n",
       "    </tr>\n",
       "    <tr>\n",
       "      <th>2</th>\n",
       "      <td>Francja</td>\n",
       "      <td>France</td>\n",
       "    </tr>\n",
       "    <tr>\n",
       "      <th>3</th>\n",
       "      <td>USA</td>\n",
       "      <td>United States</td>\n",
       "    </tr>\n",
       "    <tr>\n",
       "      <th>4</th>\n",
       "      <td>USA</td>\n",
       "      <td>United States</td>\n",
       "    </tr>\n",
       "  </tbody>\n",
       "</table>\n",
       "</div>"
      ],
      "text/plain": [
       "  production_countries   countries_en\n",
       "0                  USA  United States\n",
       "1                  USA  United States\n",
       "2              Francja         France\n",
       "3                  USA  United States\n",
       "4                  USA  United States"
      ]
     },
     "execution_count": 54,
     "metadata": {},
     "output_type": "execute_result"
    }
   ],
   "source": [
    "exploded_df[['production_countries','countries_en']].head(5)"
   ]
  },
  {
   "cell_type": "code",
   "execution_count": 51,
   "id": "d87cb81d",
   "metadata": {},
   "outputs": [],
   "source": [
    "def name_to_iso3(name):\n",
    "    try:\n",
    "        return pycountry.countries.lookup(name).alpha_3\n",
    "    except LookupError:\n",
    "        return None\n",
    "\n",
    "exploded_df['country_iso3'] = exploded_df['countries_en'].apply(name_to_iso3)"
   ]
  },
  {
   "cell_type": "code",
   "execution_count": 12,
   "id": "16958a47",
   "metadata": {},
   "outputs": [
    {
     "data": {
      "text/html": [
       "<div>\n",
       "<style scoped>\n",
       "    .dataframe tbody tr th:only-of-type {\n",
       "        vertical-align: middle;\n",
       "    }\n",
       "\n",
       "    .dataframe tbody tr th {\n",
       "        vertical-align: top;\n",
       "    }\n",
       "\n",
       "    .dataframe thead th {\n",
       "        text-align: right;\n",
       "    }\n",
       "</style>\n",
       "<table border=\"1\" class=\"dataframe\">\n",
       "  <thead>\n",
       "    <tr style=\"text-align: right;\">\n",
       "      <th></th>\n",
       "      <th>production_countries</th>\n",
       "      <th>countries_en</th>\n",
       "      <th>country_iso3</th>\n",
       "    </tr>\n",
       "  </thead>\n",
       "  <tbody>\n",
       "    <tr>\n",
       "      <th>0</th>\n",
       "      <td>USA</td>\n",
       "      <td>United States</td>\n",
       "      <td>USA</td>\n",
       "    </tr>\n",
       "    <tr>\n",
       "      <th>1</th>\n",
       "      <td>USA</td>\n",
       "      <td>United States</td>\n",
       "      <td>USA</td>\n",
       "    </tr>\n",
       "    <tr>\n",
       "      <th>2</th>\n",
       "      <td>Francja</td>\n",
       "      <td>France</td>\n",
       "      <td>FRA</td>\n",
       "    </tr>\n",
       "    <tr>\n",
       "      <th>3</th>\n",
       "      <td>USA</td>\n",
       "      <td>United States</td>\n",
       "      <td>USA</td>\n",
       "    </tr>\n",
       "    <tr>\n",
       "      <th>4</th>\n",
       "      <td>USA</td>\n",
       "      <td>United States</td>\n",
       "      <td>USA</td>\n",
       "    </tr>\n",
       "  </tbody>\n",
       "</table>\n",
       "</div>"
      ],
      "text/plain": [
       "  production_countries   countries_en country_iso3\n",
       "0                  USA  United States          USA\n",
       "1                  USA  United States          USA\n",
       "2              Francja         France          FRA\n",
       "3                  USA  United States          USA\n",
       "4                  USA  United States          USA"
      ]
     },
     "execution_count": 12,
     "metadata": {},
     "output_type": "execute_result"
    }
   ],
   "source": [
    "exploded_df[['production_countries','countries_en','country_iso3']].head()"
   ]
  },
  {
   "cell_type": "code",
   "execution_count": 59,
   "id": "b4e6b1e7",
   "metadata": {},
   "outputs": [
    {
     "data": {
      "application/vnd.plotly.v1+json": {
       "config": {
        "plotlyServerURL": "https://plot.ly"
       },
       "data": [
        {
         "coloraxis": "coloraxis",
         "customdata": {
          "bdata": "AAAAABSoa0EAAAAAVLVeQQAAAIDqGINBAAAAAGi+VUEAAAAA4P1MQQAAAAAAAPh/AAAAAKPhoUEAAAAAQHdLQdu2bZv6UJVBAAAAANqxdEEAAAAAgIROQQAAAEB6q4xBWVPWlMvGg0ElSZIkLYxrQQAAAACAhE5BAAAAAJMrhEEAAAAAAAD4fwAAAABovmVBdyVqV+BFfEH0m61DOMSIQQAAAAAAAPh/AAAAAICETkEAAAAAAAD4fwAAAKBdjYBBAAAAQKZFoEEAAAAAgIROQQAAAACS/o5BVVVVVb3hfUFVVVXVA4KRQQAAAADmFGlBAAAAAPCzikEAAAAAe5qHQQAAAACAhE5BVVVVVZVlV0EAAAAAgIROQQAAAAAAAPh/AAAAAAAA+H8AAAAAn46YQQAAAACIKoFBAAAAAJ+OmEEAAAAAHhJhQQAAAADKbHlBAAAAAKdpl0EAAAAAejhmQQAAAACj4ZFBAAAAAICETkEAAAAAgIROQQAAAAAAAPh/AAAAAJ3KdUEAAAAAgIROQQAAAAAAAPh/AAAAAAAA+H+LmzBHh/eLQQAAAAAGgWRBAAAAAITXh0E=",
          "dtype": "f8",
          "shape": "55, 1"
         },
         "geo": "geo",
         "hovertemplate": "<b>%{hovertext}</b><br>Average Budget: %{customdata[0]:.2s}<extra></extra>",
         "hovertext": [
          "United Arab Emirates",
          "Argentina",
          "Australia",
          "Austria",
          "Belgium",
          "Bulgaria",
          "Bahamas",
          "Brazil",
          "Canada",
          "Switzerland",
          "China",
          "Czech Republic",
          "Germany",
          "Denmark",
          "Egypt",
          "Spain",
          "Estonia",
          "Finland",
          "France",
          "United Kingdom",
          "Georgia",
          "Ghana",
          "Greece",
          "Hong Kong",
          "Hungary",
          "Indonesia",
          "India",
          "Ireland",
          "Iceland",
          "Italy",
          "Jordan",
          "Japan",
          "Kenya",
          "South Korea",
          "Lebanon",
          "Lithuania",
          "Luxembourg",
          "Morocco",
          "Mexico",
          "Malta",
          "Netherlands",
          "Norway",
          "New Zealand",
          "Poland",
          "Russian Federation",
          "Saudi Arabia",
          "Singapore",
          "Serbia",
          "Sweden",
          "Thailand",
          "Türkiye",
          "Ukraine",
          "United States",
          "South Africa",
          "Zambia"
         ],
         "locations": [
          "ARE",
          "ARG",
          "AUS",
          "AUT",
          "BEL",
          "BGR",
          "BHS",
          "BRA",
          "CAN",
          "CHE",
          "CHN",
          "CZE",
          "DEU",
          "DNK",
          "EGY",
          "ESP",
          "EST",
          "FIN",
          "FRA",
          "GBR",
          "GEO",
          "GHA",
          "GRC",
          "HKG",
          "HUN",
          "IDN",
          "IND",
          "IRL",
          "ISL",
          "ITA",
          "JOR",
          "JPN",
          "KEN",
          "KOR",
          "LBN",
          "LTU",
          "LUX",
          "MAR",
          "MEX",
          "MLT",
          "NLD",
          "NOR",
          "NZL",
          "POL",
          "RUS",
          "SAU",
          "SGP",
          "SRB",
          "SWE",
          "THA",
          "TUR",
          "UKR",
          "USA",
          "ZAF",
          "ZMB"
         ],
         "name": "",
         "type": "choropleth",
         "z": {
          "bdata": "AAAAABSoa0EAAAAAVLVeQQAAAIDqGINBAAAAAGi+VUEAAAAA4P1MQQAAAAAAAPh/AAAAAKPhoUEAAAAAQHdLQdu2bZv6UJVBAAAAANqxdEEAAAAAgIROQQAAAEB6q4xBWVPWlMvGg0ElSZIkLYxrQQAAAACAhE5BAAAAAJMrhEEAAAAAAAD4fwAAAABovmVBdyVqV+BFfEH0m61DOMSIQQAAAAAAAPh/AAAAAICETkEAAAAAAAD4fwAAAKBdjYBBAAAAQKZFoEEAAAAAgIROQQAAAACS/o5BVVVVVb3hfUFVVVXVA4KRQQAAAADmFGlBAAAAAPCzikEAAAAAe5qHQQAAAACAhE5BVVVVVZVlV0EAAAAAgIROQQAAAAAAAPh/AAAAAAAA+H8AAAAAn46YQQAAAACIKoFBAAAAAJ+OmEEAAAAAHhJhQQAAAADKbHlBAAAAAKdpl0EAAAAAejhmQQAAAACj4ZFBAAAAAICETkEAAAAAgIROQQAAAAAAAPh/AAAAAJ3KdUEAAAAAgIROQQAAAAAAAPh/AAAAAAAA+H+LmzBHh/eLQQAAAAAGgWRBAAAAAITXh0E=",
          "dtype": "f8"
         }
        }
       ],
       "layout": {
        "coloraxis": {
         "colorbar": {
          "title": {
           "text": "Average Budget ($)"
          }
         },
         "colorscale": [
          [
           0,
           "rgb(247,251,255)"
          ],
          [
           0.125,
           "rgb(222,235,247)"
          ],
          [
           0.25,
           "rgb(198,219,239)"
          ],
          [
           0.375,
           "rgb(158,202,225)"
          ],
          [
           0.5,
           "rgb(107,174,214)"
          ],
          [
           0.625,
           "rgb(66,146,198)"
          ],
          [
           0.75,
           "rgb(33,113,181)"
          ],
          [
           0.875,
           "rgb(8,81,156)"
          ],
          [
           1,
           "rgb(8,48,107)"
          ]
         ]
        },
        "geo": {
         "center": {},
         "domain": {
          "x": [
           0,
           1
          ],
          "y": [
           0,
           1
          ]
         },
         "projection": {
          "type": "natural earth"
         }
        },
        "height": 600,
        "legend": {
         "tracegroupgap": 0
        },
        "template": {
         "data": {
          "bar": [
           {
            "error_x": {
             "color": "#2a3f5f"
            },
            "error_y": {
             "color": "#2a3f5f"
            },
            "marker": {
             "line": {
              "color": "#E5ECF6",
              "width": 0.5
             },
             "pattern": {
              "fillmode": "overlay",
              "size": 10,
              "solidity": 0.2
             }
            },
            "type": "bar"
           }
          ],
          "barpolar": [
           {
            "marker": {
             "line": {
              "color": "#E5ECF6",
              "width": 0.5
             },
             "pattern": {
              "fillmode": "overlay",
              "size": 10,
              "solidity": 0.2
             }
            },
            "type": "barpolar"
           }
          ],
          "carpet": [
           {
            "aaxis": {
             "endlinecolor": "#2a3f5f",
             "gridcolor": "white",
             "linecolor": "white",
             "minorgridcolor": "white",
             "startlinecolor": "#2a3f5f"
            },
            "baxis": {
             "endlinecolor": "#2a3f5f",
             "gridcolor": "white",
             "linecolor": "white",
             "minorgridcolor": "white",
             "startlinecolor": "#2a3f5f"
            },
            "type": "carpet"
           }
          ],
          "choropleth": [
           {
            "colorbar": {
             "outlinewidth": 0,
             "ticks": ""
            },
            "type": "choropleth"
           }
          ],
          "contour": [
           {
            "colorbar": {
             "outlinewidth": 0,
             "ticks": ""
            },
            "colorscale": [
             [
              0,
              "#0d0887"
             ],
             [
              0.1111111111111111,
              "#46039f"
             ],
             [
              0.2222222222222222,
              "#7201a8"
             ],
             [
              0.3333333333333333,
              "#9c179e"
             ],
             [
              0.4444444444444444,
              "#bd3786"
             ],
             [
              0.5555555555555556,
              "#d8576b"
             ],
             [
              0.6666666666666666,
              "#ed7953"
             ],
             [
              0.7777777777777778,
              "#fb9f3a"
             ],
             [
              0.8888888888888888,
              "#fdca26"
             ],
             [
              1,
              "#f0f921"
             ]
            ],
            "type": "contour"
           }
          ],
          "contourcarpet": [
           {
            "colorbar": {
             "outlinewidth": 0,
             "ticks": ""
            },
            "type": "contourcarpet"
           }
          ],
          "heatmap": [
           {
            "colorbar": {
             "outlinewidth": 0,
             "ticks": ""
            },
            "colorscale": [
             [
              0,
              "#0d0887"
             ],
             [
              0.1111111111111111,
              "#46039f"
             ],
             [
              0.2222222222222222,
              "#7201a8"
             ],
             [
              0.3333333333333333,
              "#9c179e"
             ],
             [
              0.4444444444444444,
              "#bd3786"
             ],
             [
              0.5555555555555556,
              "#d8576b"
             ],
             [
              0.6666666666666666,
              "#ed7953"
             ],
             [
              0.7777777777777778,
              "#fb9f3a"
             ],
             [
              0.8888888888888888,
              "#fdca26"
             ],
             [
              1,
              "#f0f921"
             ]
            ],
            "type": "heatmap"
           }
          ],
          "histogram": [
           {
            "marker": {
             "pattern": {
              "fillmode": "overlay",
              "size": 10,
              "solidity": 0.2
             }
            },
            "type": "histogram"
           }
          ],
          "histogram2d": [
           {
            "colorbar": {
             "outlinewidth": 0,
             "ticks": ""
            },
            "colorscale": [
             [
              0,
              "#0d0887"
             ],
             [
              0.1111111111111111,
              "#46039f"
             ],
             [
              0.2222222222222222,
              "#7201a8"
             ],
             [
              0.3333333333333333,
              "#9c179e"
             ],
             [
              0.4444444444444444,
              "#bd3786"
             ],
             [
              0.5555555555555556,
              "#d8576b"
             ],
             [
              0.6666666666666666,
              "#ed7953"
             ],
             [
              0.7777777777777778,
              "#fb9f3a"
             ],
             [
              0.8888888888888888,
              "#fdca26"
             ],
             [
              1,
              "#f0f921"
             ]
            ],
            "type": "histogram2d"
           }
          ],
          "histogram2dcontour": [
           {
            "colorbar": {
             "outlinewidth": 0,
             "ticks": ""
            },
            "colorscale": [
             [
              0,
              "#0d0887"
             ],
             [
              0.1111111111111111,
              "#46039f"
             ],
             [
              0.2222222222222222,
              "#7201a8"
             ],
             [
              0.3333333333333333,
              "#9c179e"
             ],
             [
              0.4444444444444444,
              "#bd3786"
             ],
             [
              0.5555555555555556,
              "#d8576b"
             ],
             [
              0.6666666666666666,
              "#ed7953"
             ],
             [
              0.7777777777777778,
              "#fb9f3a"
             ],
             [
              0.8888888888888888,
              "#fdca26"
             ],
             [
              1,
              "#f0f921"
             ]
            ],
            "type": "histogram2dcontour"
           }
          ],
          "mesh3d": [
           {
            "colorbar": {
             "outlinewidth": 0,
             "ticks": ""
            },
            "type": "mesh3d"
           }
          ],
          "parcoords": [
           {
            "line": {
             "colorbar": {
              "outlinewidth": 0,
              "ticks": ""
             }
            },
            "type": "parcoords"
           }
          ],
          "pie": [
           {
            "automargin": true,
            "type": "pie"
           }
          ],
          "scatter": [
           {
            "fillpattern": {
             "fillmode": "overlay",
             "size": 10,
             "solidity": 0.2
            },
            "type": "scatter"
           }
          ],
          "scatter3d": [
           {
            "line": {
             "colorbar": {
              "outlinewidth": 0,
              "ticks": ""
             }
            },
            "marker": {
             "colorbar": {
              "outlinewidth": 0,
              "ticks": ""
             }
            },
            "type": "scatter3d"
           }
          ],
          "scattercarpet": [
           {
            "marker": {
             "colorbar": {
              "outlinewidth": 0,
              "ticks": ""
             }
            },
            "type": "scattercarpet"
           }
          ],
          "scattergeo": [
           {
            "marker": {
             "colorbar": {
              "outlinewidth": 0,
              "ticks": ""
             }
            },
            "type": "scattergeo"
           }
          ],
          "scattergl": [
           {
            "marker": {
             "colorbar": {
              "outlinewidth": 0,
              "ticks": ""
             }
            },
            "type": "scattergl"
           }
          ],
          "scattermap": [
           {
            "marker": {
             "colorbar": {
              "outlinewidth": 0,
              "ticks": ""
             }
            },
            "type": "scattermap"
           }
          ],
          "scattermapbox": [
           {
            "marker": {
             "colorbar": {
              "outlinewidth": 0,
              "ticks": ""
             }
            },
            "type": "scattermapbox"
           }
          ],
          "scatterpolar": [
           {
            "marker": {
             "colorbar": {
              "outlinewidth": 0,
              "ticks": ""
             }
            },
            "type": "scatterpolar"
           }
          ],
          "scatterpolargl": [
           {
            "marker": {
             "colorbar": {
              "outlinewidth": 0,
              "ticks": ""
             }
            },
            "type": "scatterpolargl"
           }
          ],
          "scatterternary": [
           {
            "marker": {
             "colorbar": {
              "outlinewidth": 0,
              "ticks": ""
             }
            },
            "type": "scatterternary"
           }
          ],
          "surface": [
           {
            "colorbar": {
             "outlinewidth": 0,
             "ticks": ""
            },
            "colorscale": [
             [
              0,
              "#0d0887"
             ],
             [
              0.1111111111111111,
              "#46039f"
             ],
             [
              0.2222222222222222,
              "#7201a8"
             ],
             [
              0.3333333333333333,
              "#9c179e"
             ],
             [
              0.4444444444444444,
              "#bd3786"
             ],
             [
              0.5555555555555556,
              "#d8576b"
             ],
             [
              0.6666666666666666,
              "#ed7953"
             ],
             [
              0.7777777777777778,
              "#fb9f3a"
             ],
             [
              0.8888888888888888,
              "#fdca26"
             ],
             [
              1,
              "#f0f921"
             ]
            ],
            "type": "surface"
           }
          ],
          "table": [
           {
            "cells": {
             "fill": {
              "color": "#EBF0F8"
             },
             "line": {
              "color": "white"
             }
            },
            "header": {
             "fill": {
              "color": "#C8D4E3"
             },
             "line": {
              "color": "white"
             }
            },
            "type": "table"
           }
          ]
         },
         "layout": {
          "annotationdefaults": {
           "arrowcolor": "#2a3f5f",
           "arrowhead": 0,
           "arrowwidth": 1
          },
          "autotypenumbers": "strict",
          "coloraxis": {
           "colorbar": {
            "outlinewidth": 0,
            "ticks": ""
           }
          },
          "colorscale": {
           "diverging": [
            [
             0,
             "#8e0152"
            ],
            [
             0.1,
             "#c51b7d"
            ],
            [
             0.2,
             "#de77ae"
            ],
            [
             0.3,
             "#f1b6da"
            ],
            [
             0.4,
             "#fde0ef"
            ],
            [
             0.5,
             "#f7f7f7"
            ],
            [
             0.6,
             "#e6f5d0"
            ],
            [
             0.7,
             "#b8e186"
            ],
            [
             0.8,
             "#7fbc41"
            ],
            [
             0.9,
             "#4d9221"
            ],
            [
             1,
             "#276419"
            ]
           ],
           "sequential": [
            [
             0,
             "#0d0887"
            ],
            [
             0.1111111111111111,
             "#46039f"
            ],
            [
             0.2222222222222222,
             "#7201a8"
            ],
            [
             0.3333333333333333,
             "#9c179e"
            ],
            [
             0.4444444444444444,
             "#bd3786"
            ],
            [
             0.5555555555555556,
             "#d8576b"
            ],
            [
             0.6666666666666666,
             "#ed7953"
            ],
            [
             0.7777777777777778,
             "#fb9f3a"
            ],
            [
             0.8888888888888888,
             "#fdca26"
            ],
            [
             1,
             "#f0f921"
            ]
           ],
           "sequentialminus": [
            [
             0,
             "#0d0887"
            ],
            [
             0.1111111111111111,
             "#46039f"
            ],
            [
             0.2222222222222222,
             "#7201a8"
            ],
            [
             0.3333333333333333,
             "#9c179e"
            ],
            [
             0.4444444444444444,
             "#bd3786"
            ],
            [
             0.5555555555555556,
             "#d8576b"
            ],
            [
             0.6666666666666666,
             "#ed7953"
            ],
            [
             0.7777777777777778,
             "#fb9f3a"
            ],
            [
             0.8888888888888888,
             "#fdca26"
            ],
            [
             1,
             "#f0f921"
            ]
           ]
          },
          "colorway": [
           "#636efa",
           "#EF553B",
           "#00cc96",
           "#ab63fa",
           "#FFA15A",
           "#19d3f3",
           "#FF6692",
           "#B6E880",
           "#FF97FF",
           "#FECB52"
          ],
          "font": {
           "color": "#2a3f5f"
          },
          "geo": {
           "bgcolor": "white",
           "lakecolor": "white",
           "landcolor": "#E5ECF6",
           "showlakes": true,
           "showland": true,
           "subunitcolor": "white"
          },
          "hoverlabel": {
           "align": "left"
          },
          "hovermode": "closest",
          "mapbox": {
           "style": "light"
          },
          "paper_bgcolor": "white",
          "plot_bgcolor": "#E5ECF6",
          "polar": {
           "angularaxis": {
            "gridcolor": "white",
            "linecolor": "white",
            "ticks": ""
           },
           "bgcolor": "#E5ECF6",
           "radialaxis": {
            "gridcolor": "white",
            "linecolor": "white",
            "ticks": ""
           }
          },
          "scene": {
           "xaxis": {
            "backgroundcolor": "#E5ECF6",
            "gridcolor": "white",
            "gridwidth": 2,
            "linecolor": "white",
            "showbackground": true,
            "ticks": "",
            "zerolinecolor": "white"
           },
           "yaxis": {
            "backgroundcolor": "#E5ECF6",
            "gridcolor": "white",
            "gridwidth": 2,
            "linecolor": "white",
            "showbackground": true,
            "ticks": "",
            "zerolinecolor": "white"
           },
           "zaxis": {
            "backgroundcolor": "#E5ECF6",
            "gridcolor": "white",
            "gridwidth": 2,
            "linecolor": "white",
            "showbackground": true,
            "ticks": "",
            "zerolinecolor": "white"
           }
          },
          "shapedefaults": {
           "line": {
            "color": "#2a3f5f"
           }
          },
          "ternary": {
           "aaxis": {
            "gridcolor": "white",
            "linecolor": "white",
            "ticks": ""
           },
           "baxis": {
            "gridcolor": "white",
            "linecolor": "white",
            "ticks": ""
           },
           "bgcolor": "#E5ECF6",
           "caxis": {
            "gridcolor": "white",
            "linecolor": "white",
            "ticks": ""
           }
          },
          "title": {
           "x": 0.05
          },
          "xaxis": {
           "automargin": true,
           "gridcolor": "white",
           "linecolor": "white",
           "ticks": "",
           "title": {
            "standoff": 15
           },
           "zerolinecolor": "white",
           "zerolinewidth": 2
          },
          "yaxis": {
           "automargin": true,
           "gridcolor": "white",
           "linecolor": "white",
           "ticks": "",
           "title": {
            "standoff": 15
           },
           "zerolinecolor": "white",
           "zerolinewidth": 2
          }
         }
        },
        "title": {
         "text": "Average Movie Budget by Country"
        },
        "width": 1100
       }
      }
     },
     "metadata": {},
     "output_type": "display_data"
    }
   ],
   "source": [
    "avg_budget_by_country = exploded_df.groupby('country_iso3')['budget_in$'].mean().reset_index()\n",
    "\n",
    "countries_names = exploded_df[['country_iso3', 'countries_en']].drop_duplicates()\n",
    "avg_budget_by_country = avg_budget_by_country.merge(countries_names, on='country_iso3', how='left')\n",
    "\n",
    "fig = px.choropleth(\n",
    "    avg_budget_by_country,\n",
    "    locations='country_iso3',\n",
    "    color='budget_in$',\n",
    "    hover_name='countries_en', \n",
    "    hover_data={\n",
    "        'country_iso3': False,\n",
    "        'budget_in$': False\n",
    "    },\n",
    "    color_continuous_scale='Blues',\n",
    "    projection='natural earth',\n",
    "    title='Average Movie Budget by Country',\n",
    "    labels={'budget_in$': 'Average Budget ($)'},\n",
    "    width=1100,\n",
    "    height=600\n",
    ")\n",
    "\n",
    "fig.update_traces(\n",
    "    hovertemplate='<b>%{hovertext}</b><br>Average Budget: %{customdata[0]:.2s}<extra></extra>',\n",
    "    customdata=avg_budget_by_country[['budget_in$']].values,\n",
    "    hovertext=avg_budget_by_country['countries_en']\n",
    ")\n",
    "\n",
    "fig.write_html(\"map_budget.html\")\n",
    "fig.show()"
   ]
  },
  {
   "cell_type": "code",
   "execution_count": 65,
   "id": "d1ff4650",
   "metadata": {},
   "outputs": [],
   "source": [
    "exploded_df['rating_value'] = exploded_df['rating_value'].str.replace(',', '.')\n",
    "exploded_df['rating_value'] = pd.to_numeric(exploded_df['rating_value'], errors='coerce')\n",
    "\n",
    "exploded_df['critic_rating_value'] = exploded_df['critic_rating_value'].str.replace(',', '.')\n",
    "exploded_df['critic_rating_value'] = pd.to_numeric(exploded_df['critic_rating_value'], errors='coerce')"
   ]
  },
  {
   "cell_type": "code",
   "execution_count": 67,
   "id": "d282b883",
   "metadata": {},
   "outputs": [
    {
     "data": {
      "application/vnd.plotly.v1+json": {
       "config": {
        "plotlyServerURL": "https://plot.ly"
       },
       "data": [
        {
         "coloraxis": "coloraxis",
         "customdata": {
          "bdata": "AAAAAAAAAEDMzMzMzEwgQDMzMzMzMx1AAAAAAAAAAEDMzMzMzMweQM3MzMzMzB1AAAAAAAAAKkDBD/zAD/weQOzETuzEThxAAAAAAAAAEEBmZmZmZuYeQAAAAAAAgB9AAAAAAAAAAEDMzMzMzMwfQDQzMzMzMyBAAAAAAAAA8D+amZmZmZkfQDMzMzMzMyBAAAAAAAAA8D8AAAAAAAAeQM3MzMzMzB5AAAAAAAAAEEDNzMzMzAwgQGZmZmZm5h5AAAAAAAAAMUAPDw8PDw8fQIiHh4eHhx1AAAAAAAAAIEAAAAAAAEAfQDQzMzMzcxxAAAAAAAAAAEAAAAAAAAAgQMzMzMzMzB1AAAAAAAAAFEDNzMzMzMweQPYoXI/C9RxAAAAAAACAS0AMocEQGgwfQBonknEiGR1AAAAAAAAAJEAzMzMzMzMfQCpcj8L1KB5AAAAAAAAA8D9mZmZmZmYgQGZmZmZmZh5AAAAAAAAALkAs+cWSXywfQBSuR+F6FB5AAAAAAAAA8D8zMzMzMzMgQDMzMzMzMx9AAAAAAAAACEAREREREREfQN3d3d3d3R1AAAAAAAAAT0A8VLdDdTsfQFtrrbXWWh5AAAAAAABAWkDgyWp5YwQfQPPGCCb6Ox1AAAAAAAAA8D8zMzMzMzMgQDMzMzMzMx9AAAAAAAAA8D9mZmZmZmYgQGZmZmZmZh5AAAAAAAAA8D8zMzMzMzMfQJqZmZmZmR9AAAAAAAAAGEAjIiIiIiIfQGdmZmZmZh5AAAAAAAAACEDNzMzMzMweQJmZmZmZmR1AAAAAAAAA8D9mZmZmZmYgQGZmZmZmZh5AAAAAAAAACEAzMzMzMzMfQM3MzMzMzBxAAAAAAAAAEEDMzMzMzMwfQAAAAAAAgB5AAAAAAAAACEDv7u7u7u4eQBERERERER1AAAAAAAAANkCsfcPaN6wfQD0lyFOCPB9AAAAAAAAAAECZmZmZmZkfQMzMzMzMzBxAAAAAAAAALEDiK77iK74fQCu+4iu+4h1AAAAAAAAA8D9mZmZmZmYgQGZmZmZmZh5AAAAAAAAACEAAAAAAAAAgQCIiIiIiIiBAAAAAAAAA8D9mZmZmZmYgQJqZmZmZmRtAAAAAAAAA8D+amZmZmZkfQJqZmZmZmR1AAAAAAAAA8D8zMzMzMzMgQJqZmZmZmSBAAAAAAAAA8D8zMzMzMzMgQJqZmZmZmR1AAAAAAAAAAEBmZmZmZmYfQGZmZmZmZhxAAAAAAAAA8D8zMzMzMzMgQJqZmZmZmR1AAAAAAAAAEEAzMzMzMzMfQJqZmZmZGR5AAAAAAAAAFEDiehSuR+EeQCpcj8L1KB5AAAAAAAAAJkBZ+4a1b1gfQCTIU4I8JRxAAAAAAACASkAeGTaImycfQKd7gGMR/h1AAAAAAAAAFECF61G4HoUfQNajcD0K1x9AAAAAAAAA8D9mZmZmZmYgQGZmZmZmZh5AAAAAAAAA8D9mZmZmZmYgQGZmZmZmZh5AAAAAAAAACEB4d3d3d3cfQDMzMzMzMx9AAAAAAAAAJkAgTwnylCAfQCBPCfKUIB9AAAAAAAAA8D9mZmZmZmYgQGZmZmZmZh5AAAAAAAAA8D9mZmZmZmYgQAAAAAAAABRAAAAAAAAA8D8zMzMzMzMfQDMzMzMzMxtAAAAAAADQdkCXa+GZ1x8fQJB8iNOcYh1AAAAAAAAAAEDMzMzMzMwfQGZmZmZmZh5AAAAAAAAA8D9mZmZmZmYeQAAAAAAAABpA",
          "dtype": "f8",
          "shape": "55, 3"
         },
         "geo": "geo",
         "hovertemplate": "<b>%{hovertext}</b><br>Number of Movies: %{customdata[0]:.0f}<br>Average Rating: %{customdata[1]:.2f}<br>Average Critic Rating: %{customdata[2]:.2f}<extra></extra>",
         "hovertext": [
          "United Arab Emirates",
          "Argentina",
          "Australia",
          "Austria",
          "Belgium",
          "Bulgaria",
          "Bahamas",
          "Brazil",
          "Canada",
          "Switzerland",
          "China",
          "Czech Republic",
          "Germany",
          "Denmark",
          "Egypt",
          "Spain",
          "Estonia",
          "Finland",
          "France",
          "United Kingdom",
          "Georgia",
          "Ghana",
          "Greece",
          "Hong Kong",
          "Hungary",
          "Indonesia",
          "India",
          "Ireland",
          "Iceland",
          "Italy",
          "Jordan",
          "Japan",
          "Kenya",
          "South Korea",
          "Lebanon",
          "Lithuania",
          "Luxembourg",
          "Morocco",
          "Mexico",
          "Malta",
          "Netherlands",
          "Norway",
          "New Zealand",
          "Poland",
          "Russian Federation",
          "Saudi Arabia",
          "Singapore",
          "Serbia",
          "Sweden",
          "Thailand",
          "Türkiye",
          "Ukraine",
          "United States",
          "South Africa",
          "Zambia"
         ],
         "locations": [
          "ARE",
          "ARG",
          "AUS",
          "AUT",
          "BEL",
          "BGR",
          "BHS",
          "BRA",
          "CAN",
          "CHE",
          "CHN",
          "CZE",
          "DEU",
          "DNK",
          "EGY",
          "ESP",
          "EST",
          "FIN",
          "FRA",
          "GBR",
          "GEO",
          "GHA",
          "GRC",
          "HKG",
          "HUN",
          "IDN",
          "IND",
          "IRL",
          "ISL",
          "ITA",
          "JOR",
          "JPN",
          "KEN",
          "KOR",
          "LBN",
          "LTU",
          "LUX",
          "MAR",
          "MEX",
          "MLT",
          "NLD",
          "NOR",
          "NZL",
          "POL",
          "RUS",
          "SAU",
          "SGP",
          "SRB",
          "SWE",
          "THA",
          "TUR",
          "UKR",
          "USA",
          "ZAF",
          "ZMB"
         ],
         "name": "",
         "type": "choropleth",
         "z": {
          "bdata": "AgACAA0ABAACAAEAAQAEABEACAACAAUANwAKAAEADwABAAMAPgBpAAEAAQABAAYAAwABAAMABAADABYAAgAOAAEAAwABAAEAAQABAAIAAQAEAAUACwA1AAUAAQABAAMACwABAAEAAQBtAQIAAQA=",
          "dtype": "i2"
         }
        }
       ],
       "layout": {
        "coloraxis": {
         "colorbar": {
          "title": {
           "text": "Number of Movies"
          }
         },
         "colorscale": [
          [
           0,
           "rgb(255,245,240)"
          ],
          [
           0.125,
           "rgb(254,224,210)"
          ],
          [
           0.25,
           "rgb(252,187,161)"
          ],
          [
           0.375,
           "rgb(252,146,114)"
          ],
          [
           0.5,
           "rgb(251,106,74)"
          ],
          [
           0.625,
           "rgb(239,59,44)"
          ],
          [
           0.75,
           "rgb(203,24,29)"
          ],
          [
           0.875,
           "rgb(165,15,21)"
          ],
          [
           1,
           "rgb(103,0,13)"
          ]
         ]
        },
        "geo": {
         "center": {},
         "domain": {
          "x": [
           0,
           1
          ],
          "y": [
           0,
           1
          ]
         },
         "projection": {
          "type": "natural earth"
         }
        },
        "height": 600,
        "legend": {
         "tracegroupgap": 0
        },
        "template": {
         "data": {
          "bar": [
           {
            "error_x": {
             "color": "#2a3f5f"
            },
            "error_y": {
             "color": "#2a3f5f"
            },
            "marker": {
             "line": {
              "color": "#E5ECF6",
              "width": 0.5
             },
             "pattern": {
              "fillmode": "overlay",
              "size": 10,
              "solidity": 0.2
             }
            },
            "type": "bar"
           }
          ],
          "barpolar": [
           {
            "marker": {
             "line": {
              "color": "#E5ECF6",
              "width": 0.5
             },
             "pattern": {
              "fillmode": "overlay",
              "size": 10,
              "solidity": 0.2
             }
            },
            "type": "barpolar"
           }
          ],
          "carpet": [
           {
            "aaxis": {
             "endlinecolor": "#2a3f5f",
             "gridcolor": "white",
             "linecolor": "white",
             "minorgridcolor": "white",
             "startlinecolor": "#2a3f5f"
            },
            "baxis": {
             "endlinecolor": "#2a3f5f",
             "gridcolor": "white",
             "linecolor": "white",
             "minorgridcolor": "white",
             "startlinecolor": "#2a3f5f"
            },
            "type": "carpet"
           }
          ],
          "choropleth": [
           {
            "colorbar": {
             "outlinewidth": 0,
             "ticks": ""
            },
            "type": "choropleth"
           }
          ],
          "contour": [
           {
            "colorbar": {
             "outlinewidth": 0,
             "ticks": ""
            },
            "colorscale": [
             [
              0,
              "#0d0887"
             ],
             [
              0.1111111111111111,
              "#46039f"
             ],
             [
              0.2222222222222222,
              "#7201a8"
             ],
             [
              0.3333333333333333,
              "#9c179e"
             ],
             [
              0.4444444444444444,
              "#bd3786"
             ],
             [
              0.5555555555555556,
              "#d8576b"
             ],
             [
              0.6666666666666666,
              "#ed7953"
             ],
             [
              0.7777777777777778,
              "#fb9f3a"
             ],
             [
              0.8888888888888888,
              "#fdca26"
             ],
             [
              1,
              "#f0f921"
             ]
            ],
            "type": "contour"
           }
          ],
          "contourcarpet": [
           {
            "colorbar": {
             "outlinewidth": 0,
             "ticks": ""
            },
            "type": "contourcarpet"
           }
          ],
          "heatmap": [
           {
            "colorbar": {
             "outlinewidth": 0,
             "ticks": ""
            },
            "colorscale": [
             [
              0,
              "#0d0887"
             ],
             [
              0.1111111111111111,
              "#46039f"
             ],
             [
              0.2222222222222222,
              "#7201a8"
             ],
             [
              0.3333333333333333,
              "#9c179e"
             ],
             [
              0.4444444444444444,
              "#bd3786"
             ],
             [
              0.5555555555555556,
              "#d8576b"
             ],
             [
              0.6666666666666666,
              "#ed7953"
             ],
             [
              0.7777777777777778,
              "#fb9f3a"
             ],
             [
              0.8888888888888888,
              "#fdca26"
             ],
             [
              1,
              "#f0f921"
             ]
            ],
            "type": "heatmap"
           }
          ],
          "histogram": [
           {
            "marker": {
             "pattern": {
              "fillmode": "overlay",
              "size": 10,
              "solidity": 0.2
             }
            },
            "type": "histogram"
           }
          ],
          "histogram2d": [
           {
            "colorbar": {
             "outlinewidth": 0,
             "ticks": ""
            },
            "colorscale": [
             [
              0,
              "#0d0887"
             ],
             [
              0.1111111111111111,
              "#46039f"
             ],
             [
              0.2222222222222222,
              "#7201a8"
             ],
             [
              0.3333333333333333,
              "#9c179e"
             ],
             [
              0.4444444444444444,
              "#bd3786"
             ],
             [
              0.5555555555555556,
              "#d8576b"
             ],
             [
              0.6666666666666666,
              "#ed7953"
             ],
             [
              0.7777777777777778,
              "#fb9f3a"
             ],
             [
              0.8888888888888888,
              "#fdca26"
             ],
             [
              1,
              "#f0f921"
             ]
            ],
            "type": "histogram2d"
           }
          ],
          "histogram2dcontour": [
           {
            "colorbar": {
             "outlinewidth": 0,
             "ticks": ""
            },
            "colorscale": [
             [
              0,
              "#0d0887"
             ],
             [
              0.1111111111111111,
              "#46039f"
             ],
             [
              0.2222222222222222,
              "#7201a8"
             ],
             [
              0.3333333333333333,
              "#9c179e"
             ],
             [
              0.4444444444444444,
              "#bd3786"
             ],
             [
              0.5555555555555556,
              "#d8576b"
             ],
             [
              0.6666666666666666,
              "#ed7953"
             ],
             [
              0.7777777777777778,
              "#fb9f3a"
             ],
             [
              0.8888888888888888,
              "#fdca26"
             ],
             [
              1,
              "#f0f921"
             ]
            ],
            "type": "histogram2dcontour"
           }
          ],
          "mesh3d": [
           {
            "colorbar": {
             "outlinewidth": 0,
             "ticks": ""
            },
            "type": "mesh3d"
           }
          ],
          "parcoords": [
           {
            "line": {
             "colorbar": {
              "outlinewidth": 0,
              "ticks": ""
             }
            },
            "type": "parcoords"
           }
          ],
          "pie": [
           {
            "automargin": true,
            "type": "pie"
           }
          ],
          "scatter": [
           {
            "fillpattern": {
             "fillmode": "overlay",
             "size": 10,
             "solidity": 0.2
            },
            "type": "scatter"
           }
          ],
          "scatter3d": [
           {
            "line": {
             "colorbar": {
              "outlinewidth": 0,
              "ticks": ""
             }
            },
            "marker": {
             "colorbar": {
              "outlinewidth": 0,
              "ticks": ""
             }
            },
            "type": "scatter3d"
           }
          ],
          "scattercarpet": [
           {
            "marker": {
             "colorbar": {
              "outlinewidth": 0,
              "ticks": ""
             }
            },
            "type": "scattercarpet"
           }
          ],
          "scattergeo": [
           {
            "marker": {
             "colorbar": {
              "outlinewidth": 0,
              "ticks": ""
             }
            },
            "type": "scattergeo"
           }
          ],
          "scattergl": [
           {
            "marker": {
             "colorbar": {
              "outlinewidth": 0,
              "ticks": ""
             }
            },
            "type": "scattergl"
           }
          ],
          "scattermap": [
           {
            "marker": {
             "colorbar": {
              "outlinewidth": 0,
              "ticks": ""
             }
            },
            "type": "scattermap"
           }
          ],
          "scattermapbox": [
           {
            "marker": {
             "colorbar": {
              "outlinewidth": 0,
              "ticks": ""
             }
            },
            "type": "scattermapbox"
           }
          ],
          "scatterpolar": [
           {
            "marker": {
             "colorbar": {
              "outlinewidth": 0,
              "ticks": ""
             }
            },
            "type": "scatterpolar"
           }
          ],
          "scatterpolargl": [
           {
            "marker": {
             "colorbar": {
              "outlinewidth": 0,
              "ticks": ""
             }
            },
            "type": "scatterpolargl"
           }
          ],
          "scatterternary": [
           {
            "marker": {
             "colorbar": {
              "outlinewidth": 0,
              "ticks": ""
             }
            },
            "type": "scatterternary"
           }
          ],
          "surface": [
           {
            "colorbar": {
             "outlinewidth": 0,
             "ticks": ""
            },
            "colorscale": [
             [
              0,
              "#0d0887"
             ],
             [
              0.1111111111111111,
              "#46039f"
             ],
             [
              0.2222222222222222,
              "#7201a8"
             ],
             [
              0.3333333333333333,
              "#9c179e"
             ],
             [
              0.4444444444444444,
              "#bd3786"
             ],
             [
              0.5555555555555556,
              "#d8576b"
             ],
             [
              0.6666666666666666,
              "#ed7953"
             ],
             [
              0.7777777777777778,
              "#fb9f3a"
             ],
             [
              0.8888888888888888,
              "#fdca26"
             ],
             [
              1,
              "#f0f921"
             ]
            ],
            "type": "surface"
           }
          ],
          "table": [
           {
            "cells": {
             "fill": {
              "color": "#EBF0F8"
             },
             "line": {
              "color": "white"
             }
            },
            "header": {
             "fill": {
              "color": "#C8D4E3"
             },
             "line": {
              "color": "white"
             }
            },
            "type": "table"
           }
          ]
         },
         "layout": {
          "annotationdefaults": {
           "arrowcolor": "#2a3f5f",
           "arrowhead": 0,
           "arrowwidth": 1
          },
          "autotypenumbers": "strict",
          "coloraxis": {
           "colorbar": {
            "outlinewidth": 0,
            "ticks": ""
           }
          },
          "colorscale": {
           "diverging": [
            [
             0,
             "#8e0152"
            ],
            [
             0.1,
             "#c51b7d"
            ],
            [
             0.2,
             "#de77ae"
            ],
            [
             0.3,
             "#f1b6da"
            ],
            [
             0.4,
             "#fde0ef"
            ],
            [
             0.5,
             "#f7f7f7"
            ],
            [
             0.6,
             "#e6f5d0"
            ],
            [
             0.7,
             "#b8e186"
            ],
            [
             0.8,
             "#7fbc41"
            ],
            [
             0.9,
             "#4d9221"
            ],
            [
             1,
             "#276419"
            ]
           ],
           "sequential": [
            [
             0,
             "#0d0887"
            ],
            [
             0.1111111111111111,
             "#46039f"
            ],
            [
             0.2222222222222222,
             "#7201a8"
            ],
            [
             0.3333333333333333,
             "#9c179e"
            ],
            [
             0.4444444444444444,
             "#bd3786"
            ],
            [
             0.5555555555555556,
             "#d8576b"
            ],
            [
             0.6666666666666666,
             "#ed7953"
            ],
            [
             0.7777777777777778,
             "#fb9f3a"
            ],
            [
             0.8888888888888888,
             "#fdca26"
            ],
            [
             1,
             "#f0f921"
            ]
           ],
           "sequentialminus": [
            [
             0,
             "#0d0887"
            ],
            [
             0.1111111111111111,
             "#46039f"
            ],
            [
             0.2222222222222222,
             "#7201a8"
            ],
            [
             0.3333333333333333,
             "#9c179e"
            ],
            [
             0.4444444444444444,
             "#bd3786"
            ],
            [
             0.5555555555555556,
             "#d8576b"
            ],
            [
             0.6666666666666666,
             "#ed7953"
            ],
            [
             0.7777777777777778,
             "#fb9f3a"
            ],
            [
             0.8888888888888888,
             "#fdca26"
            ],
            [
             1,
             "#f0f921"
            ]
           ]
          },
          "colorway": [
           "#636efa",
           "#EF553B",
           "#00cc96",
           "#ab63fa",
           "#FFA15A",
           "#19d3f3",
           "#FF6692",
           "#B6E880",
           "#FF97FF",
           "#FECB52"
          ],
          "font": {
           "color": "#2a3f5f"
          },
          "geo": {
           "bgcolor": "white",
           "lakecolor": "white",
           "landcolor": "#E5ECF6",
           "showlakes": true,
           "showland": true,
           "subunitcolor": "white"
          },
          "hoverlabel": {
           "align": "left"
          },
          "hovermode": "closest",
          "mapbox": {
           "style": "light"
          },
          "paper_bgcolor": "white",
          "plot_bgcolor": "#E5ECF6",
          "polar": {
           "angularaxis": {
            "gridcolor": "white",
            "linecolor": "white",
            "ticks": ""
           },
           "bgcolor": "#E5ECF6",
           "radialaxis": {
            "gridcolor": "white",
            "linecolor": "white",
            "ticks": ""
           }
          },
          "scene": {
           "xaxis": {
            "backgroundcolor": "#E5ECF6",
            "gridcolor": "white",
            "gridwidth": 2,
            "linecolor": "white",
            "showbackground": true,
            "ticks": "",
            "zerolinecolor": "white"
           },
           "yaxis": {
            "backgroundcolor": "#E5ECF6",
            "gridcolor": "white",
            "gridwidth": 2,
            "linecolor": "white",
            "showbackground": true,
            "ticks": "",
            "zerolinecolor": "white"
           },
           "zaxis": {
            "backgroundcolor": "#E5ECF6",
            "gridcolor": "white",
            "gridwidth": 2,
            "linecolor": "white",
            "showbackground": true,
            "ticks": "",
            "zerolinecolor": "white"
           }
          },
          "shapedefaults": {
           "line": {
            "color": "#2a3f5f"
           }
          },
          "ternary": {
           "aaxis": {
            "gridcolor": "white",
            "linecolor": "white",
            "ticks": ""
           },
           "baxis": {
            "gridcolor": "white",
            "linecolor": "white",
            "ticks": ""
           },
           "bgcolor": "#E5ECF6",
           "caxis": {
            "gridcolor": "white",
            "linecolor": "white",
            "ticks": ""
           }
          },
          "title": {
           "x": 0.05
          },
          "xaxis": {
           "automargin": true,
           "gridcolor": "white",
           "linecolor": "white",
           "ticks": "",
           "title": {
            "standoff": 15
           },
           "zerolinecolor": "white",
           "zerolinewidth": 2
          },
          "yaxis": {
           "automargin": true,
           "gridcolor": "white",
           "linecolor": "white",
           "ticks": "",
           "title": {
            "standoff": 15
           },
           "zerolinecolor": "white",
           "zerolinewidth": 2
          }
         }
        },
        "title": {
         "font": {
          "size": 24
         },
         "text": "Count of Movies in Top 500 by Country",
         "x": 0.5,
         "xanchor": "center"
        },
        "width": 1100
       }
      }
     },
     "metadata": {},
     "output_type": "display_data"
    }
   ],
   "source": [
    "count_by_country = exploded_df.groupby(['country_iso3', 'countries_en'], as_index=False).size()\n",
    "count_by_country = count_by_country.rename(columns={'size': 'count'})\n",
    "\n",
    "avg_rating = exploded_df.groupby('country_iso3')['rating_value'].mean().reset_index().rename(columns={'rating_value': 'avg_rating'})\n",
    "avg_critic_rating = exploded_df.groupby('country_iso3')['critic_rating_value'].mean().reset_index().rename(columns={'critic_rating_value': 'avg_critic_rating'})\n",
    "\n",
    "country_stats = count_by_country.merge(avg_rating, on='country_iso3', how='left')\n",
    "country_stats = country_stats.merge(avg_critic_rating, on='country_iso3', how='left')\n",
    "\n",
    "fig2 = px.choropleth(\n",
    "    country_stats,\n",
    "    locations='country_iso3',\n",
    "    color='count',\n",
    "    hover_name='countries_en',\n",
    "    hover_data={\n",
    "        'country_iso3': False,\n",
    "        'count': False,\n",
    "        'avg_rating': False,\n",
    "        'avg_critic_rating': False\n",
    "    },\n",
    "    color_continuous_scale='Reds',\n",
    "    projection='natural earth',\n",
    "    title='Count of Movies in Top 500 by Country',\n",
    "    labels={'count': 'Number of Movies'},\n",
    "    width=1100,\n",
    "    height=600\n",
    ")\n",
    "\n",
    "fig2.update_traces(\n",
    "    hovertemplate=(\n",
    "        '<b>%{hovertext}</b><br>'\n",
    "        'Number of Movies: %{customdata[0]:.0f}<br>'\n",
    "        'Average Rating: %{customdata[1]:.2f}<br>'\n",
    "        'Average Critic Rating: %{customdata[2]:.2f}<extra></extra>'\n",
    "    ),\n",
    "    customdata=country_stats[['count', 'avg_rating', 'avg_critic_rating']].values,\n",
    "    hovertext=country_stats['countries_en']\n",
    ")\n",
    "\n",
    "fig2.update_layout(\n",
    "    title={\n",
    "        'x': 0.5,\n",
    "        'xanchor': 'center',\n",
    "        'font': {'size': 24}\n",
    "    }\n",
    ")\n",
    "\n",
    "fig2.write_html(\"map_count.html\")\n",
    "fig2.show()"
   ]
  },
  {
   "cell_type": "code",
   "execution_count": 68,
   "id": "5238343d",
   "metadata": {},
   "outputs": [
    {
     "data": {
      "text/plain": [
       "array(['United States', 'France', 'New Zealand', 'Italy', 'Germany',\n",
       "       'Poland', 'United Kingdom', 'Canada', 'Malta', 'Morocco',\n",
       "       'Australia', 'Spain', 'United Arab Emirates', 'India',\n",
       "       'South Korea', 'Japan', 'Hong Kong', 'Brazil', 'Switzerland',\n",
       "       'Ireland', 'Mexico', 'Estonia', 'Georgia', 'Denmark', 'Sweden',\n",
       "       'Belgium', 'Czech Republic', 'Lithuania', 'Serbia', 'Indonesia',\n",
       "       'Singapore', 'Thailand', 'Kenya', 'Jordan', 'Saudi Arabia',\n",
       "       'South Africa', 'Ghana', 'Egypt', 'China', 'Lebanon',\n",
       "       'Netherlands', 'Luxembourg', 'Norway', 'Türkiye', 'Ukraine',\n",
       "       'Russian Federation', 'Finland', 'Iceland', 'Argentina', 'Hungary',\n",
       "       'Austria', 'Greece', 'Zambia', 'Bulgaria', 'Bahamas'], dtype=object)"
      ]
     },
     "execution_count": 68,
     "metadata": {},
     "output_type": "execute_result"
    }
   ],
   "source": [
    "exploded_df['countries_en'].unique()"
   ]
  },
  {
   "cell_type": "code",
   "execution_count": 71,
   "id": "1d560496",
   "metadata": {},
   "outputs": [],
   "source": [
    "country_to_region = {\n",
    "    'United States': 'North America',\n",
    "    'Canada': 'North America',\n",
    "    'Mexico': 'North America',\n",
    "    'Bahamas': 'North America',\n",
    "\n",
    "    'Brazil': 'South America',\n",
    "    'Argentina': 'South America',\n",
    "\n",
    "    'France': 'Europe',\n",
    "    'Italy': 'Europe',\n",
    "    'Germany': 'Europe',\n",
    "    'Poland': 'Europe',\n",
    "    'United Kingdom': 'Europe',\n",
    "    'Malta': 'Europe',\n",
    "    'Spain': 'Europe',\n",
    "    'Switzerland': 'Europe',\n",
    "    'Ireland': 'Europe',\n",
    "    'Estonia': 'Europe',\n",
    "    'Georgia': 'Europe',\n",
    "    'Denmark': 'Europe',\n",
    "    'Sweden': 'Europe',\n",
    "    'Belgium': 'Europe',\n",
    "    'Czech Republic': 'Europe',\n",
    "    'Lithuania': 'Europe',\n",
    "    'Serbia': 'Europe',\n",
    "    'Luxembourg': 'Europe',\n",
    "    'Netherlands': 'Europe',\n",
    "    'Norway': 'Europe',\n",
    "    'Türkiye': 'Europe',\n",
    "    'Ukraine': 'Europe',\n",
    "    'Russian Federation': 'Europe',\n",
    "    'Finland': 'Europe',\n",
    "    'Iceland': 'Europe',\n",
    "    'Hungary': 'Europe',\n",
    "    'Austria': 'Europe',\n",
    "    'Greece': 'Europe',\n",
    "    'Bulgaria': 'Europe',\n",
    "\n",
    "    'New Zealand': 'Oceania',\n",
    "    'Australia': 'Oceania',\n",
    "\n",
    "    'United Arab Emirates': 'Asia',\n",
    "    'India': 'Asia',\n",
    "    'South Korea': 'Asia',\n",
    "    'Japan': 'Asia',\n",
    "    'Hong Kong': 'Asia',\n",
    "    'Indonesia': 'Asia',\n",
    "    'Singapore': 'Asia',\n",
    "    'Thailand': 'Asia',\n",
    "    'China': 'Asia',\n",
    "    'Lebanon': 'Asia',\n",
    "    'Jordan': 'Asia',\n",
    "    'Saudi Arabia': 'Asia',\n",
    "\n",
    "    'Morocco': 'Africa',\n",
    "    'Kenya': 'Africa',\n",
    "    'South Africa': 'Africa',\n",
    "    'Ghana': 'Africa',\n",
    "    'Egypt': 'Africa',\n",
    "    'Zambia': 'Africa',\n",
    "}\n",
    "\n",
    "exploded_df['region'] = exploded_df['countries_en'].map(country_to_region)\n"
   ]
  },
  {
   "cell_type": "code",
   "execution_count": 75,
   "id": "8cb5065b",
   "metadata": {},
   "outputs": [
    {
     "data": {
      "application/vnd.plotly.v1+json": {
       "config": {
        "plotlyServerURL": "https://plot.ly"
       },
       "data": [
        {
         "domain": {
          "x": [
           0,
           1
          ],
          "y": [
           0,
           1
          ]
         },
         "hole": 0.4,
         "hovertemplate": "region=%{label}<br>count=%{value}<extra></extra>",
         "labels": [
          "Europe",
          "North America",
          "Asia",
          "Oceania",
          "Africa",
          "South America"
         ],
         "legendgroup": "",
         "marker": {
          "line": {
           "color": "white",
           "width": 2
          }
         },
         "name": "",
         "showlegend": true,
         "textinfo": "percent+label",
         "textposition": "outside",
         "type": "pie",
         "values": {
          "bdata": "hwGBASUAGAAHAAYA",
          "dtype": "i2"
         }
        }
       ],
       "layout": {
        "height": 500,
        "legend": {
         "title": {
          "text": "Regions"
         },
         "tracegroupgap": 0
        },
        "margin": {
         "b": 50,
         "l": 50,
         "r": 50,
         "t": 80
        },
        "piecolorway": [
         "rgb(141,211,199)",
         "rgb(255,255,179)",
         "rgb(190,186,218)",
         "rgb(251,128,114)",
         "rgb(128,177,211)",
         "rgb(253,180,98)",
         "rgb(179,222,105)",
         "rgb(252,205,229)",
         "rgb(217,217,217)",
         "rgb(188,128,189)",
         "rgb(204,235,197)",
         "rgb(255,237,111)"
        ],
        "showlegend": true,
        "template": {
         "data": {
          "bar": [
           {
            "error_x": {
             "color": "#2a3f5f"
            },
            "error_y": {
             "color": "#2a3f5f"
            },
            "marker": {
             "line": {
              "color": "#E5ECF6",
              "width": 0.5
             },
             "pattern": {
              "fillmode": "overlay",
              "size": 10,
              "solidity": 0.2
             }
            },
            "type": "bar"
           }
          ],
          "barpolar": [
           {
            "marker": {
             "line": {
              "color": "#E5ECF6",
              "width": 0.5
             },
             "pattern": {
              "fillmode": "overlay",
              "size": 10,
              "solidity": 0.2
             }
            },
            "type": "barpolar"
           }
          ],
          "carpet": [
           {
            "aaxis": {
             "endlinecolor": "#2a3f5f",
             "gridcolor": "white",
             "linecolor": "white",
             "minorgridcolor": "white",
             "startlinecolor": "#2a3f5f"
            },
            "baxis": {
             "endlinecolor": "#2a3f5f",
             "gridcolor": "white",
             "linecolor": "white",
             "minorgridcolor": "white",
             "startlinecolor": "#2a3f5f"
            },
            "type": "carpet"
           }
          ],
          "choropleth": [
           {
            "colorbar": {
             "outlinewidth": 0,
             "ticks": ""
            },
            "type": "choropleth"
           }
          ],
          "contour": [
           {
            "colorbar": {
             "outlinewidth": 0,
             "ticks": ""
            },
            "colorscale": [
             [
              0,
              "#0d0887"
             ],
             [
              0.1111111111111111,
              "#46039f"
             ],
             [
              0.2222222222222222,
              "#7201a8"
             ],
             [
              0.3333333333333333,
              "#9c179e"
             ],
             [
              0.4444444444444444,
              "#bd3786"
             ],
             [
              0.5555555555555556,
              "#d8576b"
             ],
             [
              0.6666666666666666,
              "#ed7953"
             ],
             [
              0.7777777777777778,
              "#fb9f3a"
             ],
             [
              0.8888888888888888,
              "#fdca26"
             ],
             [
              1,
              "#f0f921"
             ]
            ],
            "type": "contour"
           }
          ],
          "contourcarpet": [
           {
            "colorbar": {
             "outlinewidth": 0,
             "ticks": ""
            },
            "type": "contourcarpet"
           }
          ],
          "heatmap": [
           {
            "colorbar": {
             "outlinewidth": 0,
             "ticks": ""
            },
            "colorscale": [
             [
              0,
              "#0d0887"
             ],
             [
              0.1111111111111111,
              "#46039f"
             ],
             [
              0.2222222222222222,
              "#7201a8"
             ],
             [
              0.3333333333333333,
              "#9c179e"
             ],
             [
              0.4444444444444444,
              "#bd3786"
             ],
             [
              0.5555555555555556,
              "#d8576b"
             ],
             [
              0.6666666666666666,
              "#ed7953"
             ],
             [
              0.7777777777777778,
              "#fb9f3a"
             ],
             [
              0.8888888888888888,
              "#fdca26"
             ],
             [
              1,
              "#f0f921"
             ]
            ],
            "type": "heatmap"
           }
          ],
          "histogram": [
           {
            "marker": {
             "pattern": {
              "fillmode": "overlay",
              "size": 10,
              "solidity": 0.2
             }
            },
            "type": "histogram"
           }
          ],
          "histogram2d": [
           {
            "colorbar": {
             "outlinewidth": 0,
             "ticks": ""
            },
            "colorscale": [
             [
              0,
              "#0d0887"
             ],
             [
              0.1111111111111111,
              "#46039f"
             ],
             [
              0.2222222222222222,
              "#7201a8"
             ],
             [
              0.3333333333333333,
              "#9c179e"
             ],
             [
              0.4444444444444444,
              "#bd3786"
             ],
             [
              0.5555555555555556,
              "#d8576b"
             ],
             [
              0.6666666666666666,
              "#ed7953"
             ],
             [
              0.7777777777777778,
              "#fb9f3a"
             ],
             [
              0.8888888888888888,
              "#fdca26"
             ],
             [
              1,
              "#f0f921"
             ]
            ],
            "type": "histogram2d"
           }
          ],
          "histogram2dcontour": [
           {
            "colorbar": {
             "outlinewidth": 0,
             "ticks": ""
            },
            "colorscale": [
             [
              0,
              "#0d0887"
             ],
             [
              0.1111111111111111,
              "#46039f"
             ],
             [
              0.2222222222222222,
              "#7201a8"
             ],
             [
              0.3333333333333333,
              "#9c179e"
             ],
             [
              0.4444444444444444,
              "#bd3786"
             ],
             [
              0.5555555555555556,
              "#d8576b"
             ],
             [
              0.6666666666666666,
              "#ed7953"
             ],
             [
              0.7777777777777778,
              "#fb9f3a"
             ],
             [
              0.8888888888888888,
              "#fdca26"
             ],
             [
              1,
              "#f0f921"
             ]
            ],
            "type": "histogram2dcontour"
           }
          ],
          "mesh3d": [
           {
            "colorbar": {
             "outlinewidth": 0,
             "ticks": ""
            },
            "type": "mesh3d"
           }
          ],
          "parcoords": [
           {
            "line": {
             "colorbar": {
              "outlinewidth": 0,
              "ticks": ""
             }
            },
            "type": "parcoords"
           }
          ],
          "pie": [
           {
            "automargin": true,
            "type": "pie"
           }
          ],
          "scatter": [
           {
            "fillpattern": {
             "fillmode": "overlay",
             "size": 10,
             "solidity": 0.2
            },
            "type": "scatter"
           }
          ],
          "scatter3d": [
           {
            "line": {
             "colorbar": {
              "outlinewidth": 0,
              "ticks": ""
             }
            },
            "marker": {
             "colorbar": {
              "outlinewidth": 0,
              "ticks": ""
             }
            },
            "type": "scatter3d"
           }
          ],
          "scattercarpet": [
           {
            "marker": {
             "colorbar": {
              "outlinewidth": 0,
              "ticks": ""
             }
            },
            "type": "scattercarpet"
           }
          ],
          "scattergeo": [
           {
            "marker": {
             "colorbar": {
              "outlinewidth": 0,
              "ticks": ""
             }
            },
            "type": "scattergeo"
           }
          ],
          "scattergl": [
           {
            "marker": {
             "colorbar": {
              "outlinewidth": 0,
              "ticks": ""
             }
            },
            "type": "scattergl"
           }
          ],
          "scattermap": [
           {
            "marker": {
             "colorbar": {
              "outlinewidth": 0,
              "ticks": ""
             }
            },
            "type": "scattermap"
           }
          ],
          "scattermapbox": [
           {
            "marker": {
             "colorbar": {
              "outlinewidth": 0,
              "ticks": ""
             }
            },
            "type": "scattermapbox"
           }
          ],
          "scatterpolar": [
           {
            "marker": {
             "colorbar": {
              "outlinewidth": 0,
              "ticks": ""
             }
            },
            "type": "scatterpolar"
           }
          ],
          "scatterpolargl": [
           {
            "marker": {
             "colorbar": {
              "outlinewidth": 0,
              "ticks": ""
             }
            },
            "type": "scatterpolargl"
           }
          ],
          "scatterternary": [
           {
            "marker": {
             "colorbar": {
              "outlinewidth": 0,
              "ticks": ""
             }
            },
            "type": "scatterternary"
           }
          ],
          "surface": [
           {
            "colorbar": {
             "outlinewidth": 0,
             "ticks": ""
            },
            "colorscale": [
             [
              0,
              "#0d0887"
             ],
             [
              0.1111111111111111,
              "#46039f"
             ],
             [
              0.2222222222222222,
              "#7201a8"
             ],
             [
              0.3333333333333333,
              "#9c179e"
             ],
             [
              0.4444444444444444,
              "#bd3786"
             ],
             [
              0.5555555555555556,
              "#d8576b"
             ],
             [
              0.6666666666666666,
              "#ed7953"
             ],
             [
              0.7777777777777778,
              "#fb9f3a"
             ],
             [
              0.8888888888888888,
              "#fdca26"
             ],
             [
              1,
              "#f0f921"
             ]
            ],
            "type": "surface"
           }
          ],
          "table": [
           {
            "cells": {
             "fill": {
              "color": "#EBF0F8"
             },
             "line": {
              "color": "white"
             }
            },
            "header": {
             "fill": {
              "color": "#C8D4E3"
             },
             "line": {
              "color": "white"
             }
            },
            "type": "table"
           }
          ]
         },
         "layout": {
          "annotationdefaults": {
           "arrowcolor": "#2a3f5f",
           "arrowhead": 0,
           "arrowwidth": 1
          },
          "autotypenumbers": "strict",
          "coloraxis": {
           "colorbar": {
            "outlinewidth": 0,
            "ticks": ""
           }
          },
          "colorscale": {
           "diverging": [
            [
             0,
             "#8e0152"
            ],
            [
             0.1,
             "#c51b7d"
            ],
            [
             0.2,
             "#de77ae"
            ],
            [
             0.3,
             "#f1b6da"
            ],
            [
             0.4,
             "#fde0ef"
            ],
            [
             0.5,
             "#f7f7f7"
            ],
            [
             0.6,
             "#e6f5d0"
            ],
            [
             0.7,
             "#b8e186"
            ],
            [
             0.8,
             "#7fbc41"
            ],
            [
             0.9,
             "#4d9221"
            ],
            [
             1,
             "#276419"
            ]
           ],
           "sequential": [
            [
             0,
             "#0d0887"
            ],
            [
             0.1111111111111111,
             "#46039f"
            ],
            [
             0.2222222222222222,
             "#7201a8"
            ],
            [
             0.3333333333333333,
             "#9c179e"
            ],
            [
             0.4444444444444444,
             "#bd3786"
            ],
            [
             0.5555555555555556,
             "#d8576b"
            ],
            [
             0.6666666666666666,
             "#ed7953"
            ],
            [
             0.7777777777777778,
             "#fb9f3a"
            ],
            [
             0.8888888888888888,
             "#fdca26"
            ],
            [
             1,
             "#f0f921"
            ]
           ],
           "sequentialminus": [
            [
             0,
             "#0d0887"
            ],
            [
             0.1111111111111111,
             "#46039f"
            ],
            [
             0.2222222222222222,
             "#7201a8"
            ],
            [
             0.3333333333333333,
             "#9c179e"
            ],
            [
             0.4444444444444444,
             "#bd3786"
            ],
            [
             0.5555555555555556,
             "#d8576b"
            ],
            [
             0.6666666666666666,
             "#ed7953"
            ],
            [
             0.7777777777777778,
             "#fb9f3a"
            ],
            [
             0.8888888888888888,
             "#fdca26"
            ],
            [
             1,
             "#f0f921"
            ]
           ]
          },
          "colorway": [
           "#636efa",
           "#EF553B",
           "#00cc96",
           "#ab63fa",
           "#FFA15A",
           "#19d3f3",
           "#FF6692",
           "#B6E880",
           "#FF97FF",
           "#FECB52"
          ],
          "font": {
           "color": "#2a3f5f"
          },
          "geo": {
           "bgcolor": "white",
           "lakecolor": "white",
           "landcolor": "#E5ECF6",
           "showlakes": true,
           "showland": true,
           "subunitcolor": "white"
          },
          "hoverlabel": {
           "align": "left"
          },
          "hovermode": "closest",
          "mapbox": {
           "style": "light"
          },
          "paper_bgcolor": "white",
          "plot_bgcolor": "#E5ECF6",
          "polar": {
           "angularaxis": {
            "gridcolor": "white",
            "linecolor": "white",
            "ticks": ""
           },
           "bgcolor": "#E5ECF6",
           "radialaxis": {
            "gridcolor": "white",
            "linecolor": "white",
            "ticks": ""
           }
          },
          "scene": {
           "xaxis": {
            "backgroundcolor": "#E5ECF6",
            "gridcolor": "white",
            "gridwidth": 2,
            "linecolor": "white",
            "showbackground": true,
            "ticks": "",
            "zerolinecolor": "white"
           },
           "yaxis": {
            "backgroundcolor": "#E5ECF6",
            "gridcolor": "white",
            "gridwidth": 2,
            "linecolor": "white",
            "showbackground": true,
            "ticks": "",
            "zerolinecolor": "white"
           },
           "zaxis": {
            "backgroundcolor": "#E5ECF6",
            "gridcolor": "white",
            "gridwidth": 2,
            "linecolor": "white",
            "showbackground": true,
            "ticks": "",
            "zerolinecolor": "white"
           }
          },
          "shapedefaults": {
           "line": {
            "color": "#2a3f5f"
           }
          },
          "ternary": {
           "aaxis": {
            "gridcolor": "white",
            "linecolor": "white",
            "ticks": ""
           },
           "baxis": {
            "gridcolor": "white",
            "linecolor": "white",
            "ticks": ""
           },
           "bgcolor": "#E5ECF6",
           "caxis": {
            "gridcolor": "white",
            "linecolor": "white",
            "ticks": ""
           }
          },
          "title": {
           "x": 0.05
          },
          "xaxis": {
           "automargin": true,
           "gridcolor": "white",
           "linecolor": "white",
           "ticks": "",
           "title": {
            "standoff": 15
           },
           "zerolinecolor": "white",
           "zerolinewidth": 2
          },
          "yaxis": {
           "automargin": true,
           "gridcolor": "white",
           "linecolor": "white",
           "ticks": "",
           "title": {
            "standoff": 15
           },
           "zerolinecolor": "white",
           "zerolinewidth": 2
          }
         }
        },
        "title": {
         "font": {
          "color": "black",
          "family": "Arial",
          "size": 24
         },
         "text": "Region Proportions in Top 500 Movies",
         "x": 0.5,
         "xanchor": "center",
         "y": 0.95,
         "yanchor": "top"
        },
        "width": 700
       }
      }
     },
     "metadata": {},
     "output_type": "display_data"
    }
   ],
   "source": [
    "region_counts = exploded_df['region'].value_counts().reset_index()\n",
    "region_counts.columns = ['region', 'count']\n",
    "\n",
    "fig = px.pie(\n",
    "    region_counts,\n",
    "    names='region',\n",
    "    values='count',\n",
    "    hole=0.4,\n",
    "    title='Region Proportions in Top 500 Movies',\n",
    "    color_discrete_sequence=px.colors.qualitative.Set3\n",
    ")\n",
    "\n",
    "fig.update_traces(\n",
    "    textposition='outside',\n",
    "    textinfo='percent+label',\n",
    "    marker=dict(line=dict(color='white', width=2))  \n",
    ")\n",
    "\n",
    "fig.update_layout(\n",
    "    title={\n",
    "        'text': 'Region Proportions in Top 500 Movies',\n",
    "        'y':0.95,\n",
    "        'x':0.5,\n",
    "        'xanchor': 'center',\n",
    "        'yanchor': 'top',\n",
    "        'font': {'size': 24, 'family': 'Arial', 'color': 'black'}\n",
    "    },\n",
    "    showlegend=True,\n",
    "    legend_title_text='Regions',\n",
    "    width=700,\n",
    "    height=500,\n",
    "    margin=dict(t=80, b=50, l=50, r=50)\n",
    ")\n",
    "\n",
    "fig.write_html(\"region_donut.html\")\n",
    "fig.show()"
   ]
  }
 ],
 "metadata": {
  "kernelspec": {
   "display_name": "Python 3",
   "language": "python",
   "name": "python3"
  },
  "language_info": {
   "codemirror_mode": {
    "name": "ipython",
    "version": 3
   },
   "file_extension": ".py",
   "mimetype": "text/x-python",
   "name": "python",
   "nbconvert_exporter": "python",
   "pygments_lexer": "ipython3",
   "version": "3.11.9"
  }
 },
 "nbformat": 4,
 "nbformat_minor": 5
}
